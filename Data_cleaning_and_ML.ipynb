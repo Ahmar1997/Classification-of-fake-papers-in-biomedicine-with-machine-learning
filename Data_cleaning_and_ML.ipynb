{
 "cells": [
  {
   "cell_type": "markdown",
   "metadata": {},
   "source": [
    "First retreiving data for retractions"
   ]
  },
  {
   "cell_type": "markdown",
   "metadata": {},
   "source": [
    "loading all retractions from retraction watch  (http://retractiondatabase.org/RetractionSearch.aspx?)"
   ]
  },
  {
   "cell_type": "code",
   "execution_count": 233,
   "metadata": {},
   "outputs": [],
   "source": [
    "import pandas as pd\n",
    "\n",
    "#reading only relevant columns\n",
    "columns_to_use = ['OriginalPaperDOI', 'Reason', 'OriginalPaperDate', 'Subject', 'OriginalPaperPubMedID']\n",
    "df = pd.read_csv('C:\\\\Users\\\\oreb45ap\\\\Desktop\\\\fascifft\\\\retractions.csv', usecols= columns_to_use, encoding= 'utf-8')"
   ]
  },
  {
   "cell_type": "markdown",
   "metadata": {},
   "source": [
    "visulaize the data"
   ]
  },
  {
   "cell_type": "code",
   "execution_count": 234,
   "metadata": {},
   "outputs": [
    {
     "data": {
      "text/html": [
       "<div>\n",
       "<style scoped>\n",
       "    .dataframe tbody tr th:only-of-type {\n",
       "        vertical-align: middle;\n",
       "    }\n",
       "\n",
       "    .dataframe tbody tr th {\n",
       "        vertical-align: top;\n",
       "    }\n",
       "\n",
       "    .dataframe thead th {\n",
       "        text-align: right;\n",
       "    }\n",
       "</style>\n",
       "<table border=\"1\" class=\"dataframe\">\n",
       "  <thead>\n",
       "    <tr style=\"text-align: right;\">\n",
       "      <th></th>\n",
       "      <th>Subject</th>\n",
       "      <th>OriginalPaperDate</th>\n",
       "      <th>OriginalPaperDOI</th>\n",
       "      <th>OriginalPaperPubMedID</th>\n",
       "      <th>Reason</th>\n",
       "    </tr>\n",
       "  </thead>\n",
       "  <tbody>\n",
       "    <tr>\n",
       "      <th>0</th>\n",
       "      <td>(BLS) Biology - Cancer;(BLS) Biology - Cellula...</td>\n",
       "      <td>4/20/2020 0:00</td>\n",
       "      <td>10.1002/kjm2.12212</td>\n",
       "      <td>32311203.0</td>\n",
       "      <td>+Duplication of Image;+Error in Image;+Updated...</td>\n",
       "    </tr>\n",
       "    <tr>\n",
       "      <th>1</th>\n",
       "      <td>(PHY) Energy;(PHY) Engineering - Electrical;(P...</td>\n",
       "      <td>6/10/2022 0:00</td>\n",
       "      <td>10.1016/j.est.2022.104906</td>\n",
       "      <td>0.0</td>\n",
       "      <td>+Concerns/Issues with Peer Review;+Investigati...</td>\n",
       "    </tr>\n",
       "    <tr>\n",
       "      <th>2</th>\n",
       "      <td>(PHY) Energy;(PHY) Engineering - Electrical;(P...</td>\n",
       "      <td>6/10/2022 0:00</td>\n",
       "      <td>10.1016/j.est.2022.104906</td>\n",
       "      <td>0.0</td>\n",
       "      <td>+Concerns/Issues About Authorship;+Investigati...</td>\n",
       "    </tr>\n",
       "    <tr>\n",
       "      <th>3</th>\n",
       "      <td>(B/T) Computer Science;(B/T) Technology;(HUM) ...</td>\n",
       "      <td>6/9/2022 0:00</td>\n",
       "      <td>10.1155/2022/7747192</td>\n",
       "      <td>35720936.0</td>\n",
       "      <td>+Concerns/Issues About Data;+Concerns/Issues A...</td>\n",
       "    </tr>\n",
       "    <tr>\n",
       "      <th>4</th>\n",
       "      <td>(B/T) Computer Science;(B/T) Data Science;(HUM...</td>\n",
       "      <td>2/10/2022 0:00</td>\n",
       "      <td>10.1007/s13204-021-02330-4</td>\n",
       "      <td>0.0</td>\n",
       "      <td>+Concerns/Issues About Results;+Concerns/Issue...</td>\n",
       "    </tr>\n",
       "  </tbody>\n",
       "</table>\n",
       "</div>"
      ],
      "text/plain": [
       "                                             Subject OriginalPaperDate  \\\n",
       "0  (BLS) Biology - Cancer;(BLS) Biology - Cellula...    4/20/2020 0:00   \n",
       "1  (PHY) Energy;(PHY) Engineering - Electrical;(P...    6/10/2022 0:00   \n",
       "2  (PHY) Energy;(PHY) Engineering - Electrical;(P...    6/10/2022 0:00   \n",
       "3  (B/T) Computer Science;(B/T) Technology;(HUM) ...     6/9/2022 0:00   \n",
       "4  (B/T) Computer Science;(B/T) Data Science;(HUM...    2/10/2022 0:00   \n",
       "\n",
       "             OriginalPaperDOI  OriginalPaperPubMedID  \\\n",
       "0          10.1002/kjm2.12212             32311203.0   \n",
       "1   10.1016/j.est.2022.104906                    0.0   \n",
       "2   10.1016/j.est.2022.104906                    0.0   \n",
       "3        10.1155/2022/7747192             35720936.0   \n",
       "4  10.1007/s13204-021-02330-4                    0.0   \n",
       "\n",
       "                                              Reason  \n",
       "0  +Duplication of Image;+Error in Image;+Updated...  \n",
       "1  +Concerns/Issues with Peer Review;+Investigati...  \n",
       "2  +Concerns/Issues About Authorship;+Investigati...  \n",
       "3  +Concerns/Issues About Data;+Concerns/Issues A...  \n",
       "4  +Concerns/Issues About Results;+Concerns/Issue...  "
      ]
     },
     "execution_count": 234,
     "metadata": {},
     "output_type": "execute_result"
    }
   ],
   "source": [
    "df.head()"
   ]
  },
  {
   "cell_type": "markdown",
   "metadata": {},
   "source": [
    "checking the number of retractions"
   ]
  },
  {
   "cell_type": "code",
   "execution_count": 235,
   "metadata": {},
   "outputs": [
    {
     "data": {
      "text/plain": [
       "(50263, 5)"
      ]
     },
     "execution_count": 235,
     "metadata": {},
     "output_type": "execute_result"
    }
   ],
   "source": [
    "df.shape"
   ]
  },
  {
   "cell_type": "markdown",
   "metadata": {},
   "source": [
    "check for null values"
   ]
  },
  {
   "cell_type": "code",
   "execution_count": 236,
   "metadata": {},
   "outputs": [
    {
     "data": {
      "text/plain": [
       "Subject                     0\n",
       "OriginalPaperDate           0\n",
       "OriginalPaperDOI         2539\n",
       "OriginalPaperPubMedID    5148\n",
       "Reason                      0\n",
       "dtype: int64"
      ]
     },
     "execution_count": 236,
     "metadata": {},
     "output_type": "execute_result"
    }
   ],
   "source": [
    "df.isnull().sum()"
   ]
  },
  {
   "cell_type": "markdown",
   "metadata": {},
   "source": [
    "dropping the rows without a DOI because we need the DOI to extract the metadata"
   ]
  },
  {
   "cell_type": "code",
   "execution_count": 237,
   "metadata": {},
   "outputs": [],
   "source": [
    "df.dropna(subset = ['OriginalPaperDOI'], inplace = True)"
   ]
  },
  {
   "cell_type": "code",
   "execution_count": 238,
   "metadata": {},
   "outputs": [
    {
     "data": {
      "text/plain": [
       "(47724, 5)"
      ]
     },
     "execution_count": 238,
     "metadata": {},
     "output_type": "execute_result"
    }
   ],
   "source": [
    "df.shape"
   ]
  },
  {
   "cell_type": "code",
   "execution_count": 239,
   "metadata": {},
   "outputs": [
    {
     "data": {
      "text/plain": [
       "Subject                     0\n",
       "OriginalPaperDate           0\n",
       "OriginalPaperDOI            0\n",
       "OriginalPaperPubMedID    2862\n",
       "Reason                      0\n",
       "dtype: int64"
      ]
     },
     "execution_count": 239,
     "metadata": {},
     "output_type": "execute_result"
    }
   ],
   "source": [
    "df.isnull().sum()"
   ]
  },
  {
   "cell_type": "markdown",
   "metadata": {},
   "source": [
    "OriginalPaperPubMedID missing for rows"
   ]
  },
  {
   "cell_type": "code",
   "execution_count": 240,
   "metadata": {},
   "outputs": [
    {
     "data": {
      "text/html": [
       "<div>\n",
       "<style scoped>\n",
       "    .dataframe tbody tr th:only-of-type {\n",
       "        vertical-align: middle;\n",
       "    }\n",
       "\n",
       "    .dataframe tbody tr th {\n",
       "        vertical-align: top;\n",
       "    }\n",
       "\n",
       "    .dataframe thead th {\n",
       "        text-align: right;\n",
       "    }\n",
       "</style>\n",
       "<table border=\"1\" class=\"dataframe\">\n",
       "  <thead>\n",
       "    <tr style=\"text-align: right;\">\n",
       "      <th></th>\n",
       "      <th>Subject</th>\n",
       "      <th>OriginalPaperDate</th>\n",
       "      <th>OriginalPaperDOI</th>\n",
       "      <th>OriginalPaperPubMedID</th>\n",
       "      <th>Reason</th>\n",
       "    </tr>\n",
       "  </thead>\n",
       "  <tbody>\n",
       "    <tr>\n",
       "      <th>1</th>\n",
       "      <td>(PHY) Energy;(PHY) Engineering - Electrical;(P...</td>\n",
       "      <td>6/10/2022 0:00</td>\n",
       "      <td>10.1016/j.est.2022.104906</td>\n",
       "      <td>0.0</td>\n",
       "      <td>+Concerns/Issues with Peer Review;+Investigati...</td>\n",
       "    </tr>\n",
       "    <tr>\n",
       "      <th>2</th>\n",
       "      <td>(PHY) Energy;(PHY) Engineering - Electrical;(P...</td>\n",
       "      <td>6/10/2022 0:00</td>\n",
       "      <td>10.1016/j.est.2022.104906</td>\n",
       "      <td>0.0</td>\n",
       "      <td>+Concerns/Issues About Authorship;+Investigati...</td>\n",
       "    </tr>\n",
       "    <tr>\n",
       "      <th>4</th>\n",
       "      <td>(B/T) Computer Science;(B/T) Data Science;(HUM...</td>\n",
       "      <td>2/10/2022 0:00</td>\n",
       "      <td>10.1007/s13204-021-02330-4</td>\n",
       "      <td>0.0</td>\n",
       "      <td>+Concerns/Issues About Results;+Concerns/Issue...</td>\n",
       "    </tr>\n",
       "    <tr>\n",
       "      <th>14</th>\n",
       "      <td>(BLS) Biology - Cellular;(BLS) Toxicology;</td>\n",
       "      <td>1/17/2021 0:00</td>\n",
       "      <td>10.1007/s12596-021-00739-2</td>\n",
       "      <td>0.0</td>\n",
       "      <td>+Concerns/Issues with Peer Review;+Fake Peer R...</td>\n",
       "    </tr>\n",
       "    <tr>\n",
       "      <th>15</th>\n",
       "      <td>(PHY) Chemistry;(PHY) Materials Science;</td>\n",
       "      <td>6/12/2021 0:00</td>\n",
       "      <td>10.1007/s12596-021-00717-8</td>\n",
       "      <td>0.0</td>\n",
       "      <td>+Concerns/Issues with Peer Review;+Fake Peer R...</td>\n",
       "    </tr>\n",
       "    <tr>\n",
       "      <th>...</th>\n",
       "      <td>...</td>\n",
       "      <td>...</td>\n",
       "      <td>...</td>\n",
       "      <td>...</td>\n",
       "      <td>...</td>\n",
       "    </tr>\n",
       "    <tr>\n",
       "      <th>49516</th>\n",
       "      <td>(HSC) Medicine - Anesthesia/Anaesthesia;</td>\n",
       "      <td>7/2/2011 0:00</td>\n",
       "      <td>10.1111/j.1460-9592.2011.03648.x</td>\n",
       "      <td>0.0</td>\n",
       "      <td>+Duplication of Article;</td>\n",
       "    </tr>\n",
       "    <tr>\n",
       "      <th>49666</th>\n",
       "      <td>(BLS) Biology - Molecular;(BLS) Toxicology;</td>\n",
       "      <td>11/26/2011 0:00</td>\n",
       "      <td>10.1016/j.tox.2011.09.024</td>\n",
       "      <td>0.0</td>\n",
       "      <td>+Error by Journal/Publisher;+Objections by Aut...</td>\n",
       "    </tr>\n",
       "    <tr>\n",
       "      <th>49952</th>\n",
       "      <td>(BLS) Biology - Cellular;(BLS) Biology - Molec...</td>\n",
       "      <td>1/16/2003 0:00</td>\n",
       "      <td>10.1182/blood-2002-04-1255</td>\n",
       "      <td>0.0</td>\n",
       "      <td>+Falsification/Fabrication of Image;+Investiga...</td>\n",
       "    </tr>\n",
       "    <tr>\n",
       "      <th>50198</th>\n",
       "      <td>(BLS) Biology - Molecular;(BLS) Microbiology;(...</td>\n",
       "      <td>7/23/2012 0:00</td>\n",
       "      <td>unavailable</td>\n",
       "      <td>0.0</td>\n",
       "      <td>+False/Forged Authorship;+Lack of Approval fro...</td>\n",
       "    </tr>\n",
       "    <tr>\n",
       "      <th>50262</th>\n",
       "      <td>(BLS) Biology - Cellular;(BLS) Biology - Molec...</td>\n",
       "      <td>5/19/2011 0:00</td>\n",
       "      <td>10.1002/jcb.23190</td>\n",
       "      <td>0.0</td>\n",
       "      <td>+Investigation by Third Party;+Withdrawal;</td>\n",
       "    </tr>\n",
       "  </tbody>\n",
       "</table>\n",
       "<p>23033 rows × 5 columns</p>\n",
       "</div>"
      ],
      "text/plain": [
       "                                                 Subject OriginalPaperDate  \\\n",
       "1      (PHY) Energy;(PHY) Engineering - Electrical;(P...    6/10/2022 0:00   \n",
       "2      (PHY) Energy;(PHY) Engineering - Electrical;(P...    6/10/2022 0:00   \n",
       "4      (B/T) Computer Science;(B/T) Data Science;(HUM...    2/10/2022 0:00   \n",
       "14            (BLS) Biology - Cellular;(BLS) Toxicology;    1/17/2021 0:00   \n",
       "15              (PHY) Chemistry;(PHY) Materials Science;    6/12/2021 0:00   \n",
       "...                                                  ...               ...   \n",
       "49516           (HSC) Medicine - Anesthesia/Anaesthesia;     7/2/2011 0:00   \n",
       "49666        (BLS) Biology - Molecular;(BLS) Toxicology;   11/26/2011 0:00   \n",
       "49952  (BLS) Biology - Cellular;(BLS) Biology - Molec...    1/16/2003 0:00   \n",
       "50198  (BLS) Biology - Molecular;(BLS) Microbiology;(...    7/23/2012 0:00   \n",
       "50262  (BLS) Biology - Cellular;(BLS) Biology - Molec...    5/19/2011 0:00   \n",
       "\n",
       "                       OriginalPaperDOI  OriginalPaperPubMedID  \\\n",
       "1             10.1016/j.est.2022.104906                    0.0   \n",
       "2             10.1016/j.est.2022.104906                    0.0   \n",
       "4            10.1007/s13204-021-02330-4                    0.0   \n",
       "14           10.1007/s12596-021-00739-2                    0.0   \n",
       "15           10.1007/s12596-021-00717-8                    0.0   \n",
       "...                                 ...                    ...   \n",
       "49516  10.1111/j.1460-9592.2011.03648.x                    0.0   \n",
       "49666         10.1016/j.tox.2011.09.024                    0.0   \n",
       "49952        10.1182/blood-2002-04-1255                    0.0   \n",
       "50198                       unavailable                    0.0   \n",
       "50262                 10.1002/jcb.23190                    0.0   \n",
       "\n",
       "                                                  Reason  \n",
       "1      +Concerns/Issues with Peer Review;+Investigati...  \n",
       "2      +Concerns/Issues About Authorship;+Investigati...  \n",
       "4      +Concerns/Issues About Results;+Concerns/Issue...  \n",
       "14     +Concerns/Issues with Peer Review;+Fake Peer R...  \n",
       "15     +Concerns/Issues with Peer Review;+Fake Peer R...  \n",
       "...                                                  ...  \n",
       "49516                           +Duplication of Article;  \n",
       "49666  +Error by Journal/Publisher;+Objections by Aut...  \n",
       "49952  +Falsification/Fabrication of Image;+Investiga...  \n",
       "50198  +False/Forged Authorship;+Lack of Approval fro...  \n",
       "50262         +Investigation by Third Party;+Withdrawal;  \n",
       "\n",
       "[23033 rows x 5 columns]"
      ]
     },
     "execution_count": 240,
     "metadata": {},
     "output_type": "execute_result"
    }
   ],
   "source": [
    "df[df['OriginalPaperPubMedID'] == 0.0]"
   ]
  },
  {
   "cell_type": "markdown",
   "metadata": {},
   "source": [
    "removing rows where OriginalPaperPubMedID is missing"
   ]
  },
  {
   "cell_type": "code",
   "execution_count": 241,
   "metadata": {},
   "outputs": [],
   "source": [
    "df = df[df['OriginalPaperPubMedID'] != 0.0]"
   ]
  },
  {
   "cell_type": "code",
   "execution_count": 242,
   "metadata": {},
   "outputs": [
    {
     "data": {
      "text/plain": [
       "(24691, 5)"
      ]
     },
     "execution_count": 242,
     "metadata": {},
     "output_type": "execute_result"
    }
   ],
   "source": [
    "df.shape"
   ]
  },
  {
   "cell_type": "markdown",
   "metadata": {},
   "source": [
    "The OriginalPaperDOI also has 'unavailable' values which have to be removed"
   ]
  },
  {
   "cell_type": "code",
   "execution_count": 243,
   "metadata": {},
   "outputs": [
    {
     "data": {
      "text/html": [
       "<div>\n",
       "<style scoped>\n",
       "    .dataframe tbody tr th:only-of-type {\n",
       "        vertical-align: middle;\n",
       "    }\n",
       "\n",
       "    .dataframe tbody tr th {\n",
       "        vertical-align: top;\n",
       "    }\n",
       "\n",
       "    .dataframe thead th {\n",
       "        text-align: right;\n",
       "    }\n",
       "</style>\n",
       "<table border=\"1\" class=\"dataframe\">\n",
       "  <thead>\n",
       "    <tr style=\"text-align: right;\">\n",
       "      <th></th>\n",
       "      <th>Subject</th>\n",
       "      <th>OriginalPaperDate</th>\n",
       "      <th>OriginalPaperDOI</th>\n",
       "      <th>OriginalPaperPubMedID</th>\n",
       "      <th>Reason</th>\n",
       "    </tr>\n",
       "  </thead>\n",
       "  <tbody>\n",
       "    <tr>\n",
       "      <th>552</th>\n",
       "      <td>(HSC) Medicine - Pediatrics;(SOC) Psychology;</td>\n",
       "      <td>7/1/2023 0:00</td>\n",
       "      <td>unavailable</td>\n",
       "      <td>37817736.0</td>\n",
       "      <td>+Date of Retraction/Other Unknown;+Notice - Li...</td>\n",
       "    </tr>\n",
       "    <tr>\n",
       "      <th>1237</th>\n",
       "      <td>(BLS) Biochemistry;(BLS) Biology - Cellular;</td>\n",
       "      <td>4/15/2013 0:00</td>\n",
       "      <td>unavailable</td>\n",
       "      <td>23638214.0</td>\n",
       "      <td>+Falsification/Fabrication of Data;+Investigat...</td>\n",
       "    </tr>\n",
       "    <tr>\n",
       "      <th>2767</th>\n",
       "      <td>(HSC) Medicine - Obstetrics/Gynecology;(HSC) M...</td>\n",
       "      <td>3/15/2007 0:00</td>\n",
       "      <td>unavailable</td>\n",
       "      <td>18074942.0</td>\n",
       "      <td>+Concerns/Issues About Authorship;+Duplication...</td>\n",
       "    </tr>\n",
       "    <tr>\n",
       "      <th>2832</th>\n",
       "      <td>(BLS) Biochemistry;(BLS) Biology - Cancer;(BLS...</td>\n",
       "      <td>12/15/2022 0:00</td>\n",
       "      <td>unavailable</td>\n",
       "      <td>36628286.0</td>\n",
       "      <td>+Conflict of Interest;+Duplication of Image;+E...</td>\n",
       "    </tr>\n",
       "    <tr>\n",
       "      <th>2834</th>\n",
       "      <td>(BLS) Biology - Cancer;(BLS) Biology - Cellula...</td>\n",
       "      <td>12/23/2009 0:00</td>\n",
       "      <td>unavailable</td>\n",
       "      <td>20032394.0</td>\n",
       "      <td>+Investigation by Company/Institution;+Manipul...</td>\n",
       "    </tr>\n",
       "    <tr>\n",
       "      <th>...</th>\n",
       "      <td>...</td>\n",
       "      <td>...</td>\n",
       "      <td>...</td>\n",
       "      <td>...</td>\n",
       "      <td>...</td>\n",
       "    </tr>\n",
       "    <tr>\n",
       "      <th>50025</th>\n",
       "      <td>(BLS) Biology - Cellular;(BLS) Biology - Molec...</td>\n",
       "      <td>2/1/2006 0:00</td>\n",
       "      <td>unavailable</td>\n",
       "      <td>16549047.0</td>\n",
       "      <td>+Investigation by Journal/Publisher;+Objection...</td>\n",
       "    </tr>\n",
       "    <tr>\n",
       "      <th>50028</th>\n",
       "      <td>(BLS) Biology - Cellular;(BLS) Biology - Gener...</td>\n",
       "      <td>10/30/2015 0:00</td>\n",
       "      <td>unavailable</td>\n",
       "      <td>26522065.0</td>\n",
       "      <td>+Notice - Unable to Access via current resourc...</td>\n",
       "    </tr>\n",
       "    <tr>\n",
       "      <th>50243</th>\n",
       "      <td>(HSC) Medicine - Anesthesia/Anaesthesia;(HSC) ...</td>\n",
       "      <td>6/1/2000 0:00</td>\n",
       "      <td>unavailable</td>\n",
       "      <td>10853207.0</td>\n",
       "      <td>+Falsification/Fabrication of Data;+Investigat...</td>\n",
       "    </tr>\n",
       "    <tr>\n",
       "      <th>50244</th>\n",
       "      <td>(HSC) Medicine - Anesthesia/Anaesthesia;(HSC) ...</td>\n",
       "      <td>10/1/2004 0:00</td>\n",
       "      <td>unavailable</td>\n",
       "      <td>15535488.0</td>\n",
       "      <td>+Falsification/Fabrication of Data;+Investigat...</td>\n",
       "    </tr>\n",
       "    <tr>\n",
       "      <th>50246</th>\n",
       "      <td>(HSC) Medicine - Anesthesia/Anaesthesia;(HSC) ...</td>\n",
       "      <td>6/1/2000 0:00</td>\n",
       "      <td>unavailable</td>\n",
       "      <td>10853206.0</td>\n",
       "      <td>+Falsification/Fabrication of Data;+Investigat...</td>\n",
       "    </tr>\n",
       "  </tbody>\n",
       "</table>\n",
       "<p>443 rows × 5 columns</p>\n",
       "</div>"
      ],
      "text/plain": [
       "                                                 Subject OriginalPaperDate  \\\n",
       "552        (HSC) Medicine - Pediatrics;(SOC) Psychology;     7/1/2023 0:00   \n",
       "1237        (BLS) Biochemistry;(BLS) Biology - Cellular;    4/15/2013 0:00   \n",
       "2767   (HSC) Medicine - Obstetrics/Gynecology;(HSC) M...    3/15/2007 0:00   \n",
       "2832   (BLS) Biochemistry;(BLS) Biology - Cancer;(BLS...   12/15/2022 0:00   \n",
       "2834   (BLS) Biology - Cancer;(BLS) Biology - Cellula...   12/23/2009 0:00   \n",
       "...                                                  ...               ...   \n",
       "50025  (BLS) Biology - Cellular;(BLS) Biology - Molec...     2/1/2006 0:00   \n",
       "50028  (BLS) Biology - Cellular;(BLS) Biology - Gener...   10/30/2015 0:00   \n",
       "50243  (HSC) Medicine - Anesthesia/Anaesthesia;(HSC) ...     6/1/2000 0:00   \n",
       "50244  (HSC) Medicine - Anesthesia/Anaesthesia;(HSC) ...    10/1/2004 0:00   \n",
       "50246  (HSC) Medicine - Anesthesia/Anaesthesia;(HSC) ...     6/1/2000 0:00   \n",
       "\n",
       "      OriginalPaperDOI  OriginalPaperPubMedID  \\\n",
       "552        unavailable             37817736.0   \n",
       "1237       unavailable             23638214.0   \n",
       "2767       unavailable             18074942.0   \n",
       "2832       unavailable             36628286.0   \n",
       "2834       unavailable             20032394.0   \n",
       "...                ...                    ...   \n",
       "50025      unavailable             16549047.0   \n",
       "50028      unavailable             26522065.0   \n",
       "50243      unavailable             10853207.0   \n",
       "50244      unavailable             15535488.0   \n",
       "50246      unavailable             10853206.0   \n",
       "\n",
       "                                                  Reason  \n",
       "552    +Date of Retraction/Other Unknown;+Notice - Li...  \n",
       "1237   +Falsification/Fabrication of Data;+Investigat...  \n",
       "2767   +Concerns/Issues About Authorship;+Duplication...  \n",
       "2832   +Conflict of Interest;+Duplication of Image;+E...  \n",
       "2834   +Investigation by Company/Institution;+Manipul...  \n",
       "...                                                  ...  \n",
       "50025  +Investigation by Journal/Publisher;+Objection...  \n",
       "50028  +Notice - Unable to Access via current resourc...  \n",
       "50243  +Falsification/Fabrication of Data;+Investigat...  \n",
       "50244  +Falsification/Fabrication of Data;+Investigat...  \n",
       "50246  +Falsification/Fabrication of Data;+Investigat...  \n",
       "\n",
       "[443 rows x 5 columns]"
      ]
     },
     "execution_count": 243,
     "metadata": {},
     "output_type": "execute_result"
    }
   ],
   "source": [
    "df[df['OriginalPaperDOI'] == 'unavailable']"
   ]
  },
  {
   "cell_type": "code",
   "execution_count": 244,
   "metadata": {},
   "outputs": [],
   "source": [
    "df = df[df['OriginalPaperDOI'] != 'unavailable']"
   ]
  },
  {
   "cell_type": "code",
   "execution_count": 245,
   "metadata": {},
   "outputs": [
    {
     "data": {
      "text/plain": [
       "(24248, 5)"
      ]
     },
     "execution_count": 245,
     "metadata": {},
     "output_type": "execute_result"
    }
   ],
   "source": [
    "df.shape"
   ]
  },
  {
   "cell_type": "markdown",
   "metadata": {},
   "source": [
    "checking for null values"
   ]
  },
  {
   "cell_type": "code",
   "execution_count": 246,
   "metadata": {},
   "outputs": [
    {
     "data": {
      "text/plain": [
       "Subject                     0\n",
       "OriginalPaperDate           0\n",
       "OriginalPaperDOI            0\n",
       "OriginalPaperPubMedID    2861\n",
       "Reason                      0\n",
       "dtype: int64"
      ]
     },
     "execution_count": 246,
     "metadata": {},
     "output_type": "execute_result"
    }
   ],
   "source": [
    "df.isnull().sum()"
   ]
  },
  {
   "cell_type": "markdown",
   "metadata": {},
   "source": [
    "removing rows with null values"
   ]
  },
  {
   "cell_type": "code",
   "execution_count": 247,
   "metadata": {},
   "outputs": [],
   "source": [
    "df.dropna(inplace=True)"
   ]
  },
  {
   "cell_type": "code",
   "execution_count": 248,
   "metadata": {},
   "outputs": [
    {
     "data": {
      "text/plain": [
       "(21387, 5)"
      ]
     },
     "execution_count": 248,
     "metadata": {},
     "output_type": "execute_result"
    }
   ],
   "source": [
    "df.shape"
   ]
  },
  {
   "cell_type": "code",
   "execution_count": 249,
   "metadata": {},
   "outputs": [
    {
     "data": {
      "text/html": [
       "<div>\n",
       "<style scoped>\n",
       "    .dataframe tbody tr th:only-of-type {\n",
       "        vertical-align: middle;\n",
       "    }\n",
       "\n",
       "    .dataframe tbody tr th {\n",
       "        vertical-align: top;\n",
       "    }\n",
       "\n",
       "    .dataframe thead th {\n",
       "        text-align: right;\n",
       "    }\n",
       "</style>\n",
       "<table border=\"1\" class=\"dataframe\">\n",
       "  <thead>\n",
       "    <tr style=\"text-align: right;\">\n",
       "      <th></th>\n",
       "      <th>Subject</th>\n",
       "      <th>OriginalPaperDate</th>\n",
       "      <th>OriginalPaperDOI</th>\n",
       "      <th>OriginalPaperPubMedID</th>\n",
       "      <th>Reason</th>\n",
       "    </tr>\n",
       "  </thead>\n",
       "  <tbody>\n",
       "    <tr>\n",
       "      <th>0</th>\n",
       "      <td>(BLS) Biology - Cancer;(BLS) Biology - Cellula...</td>\n",
       "      <td>4/20/2020 0:00</td>\n",
       "      <td>10.1002/kjm2.12212</td>\n",
       "      <td>32311203.0</td>\n",
       "      <td>+Duplication of Image;+Error in Image;+Updated...</td>\n",
       "    </tr>\n",
       "    <tr>\n",
       "      <th>3</th>\n",
       "      <td>(B/T) Computer Science;(B/T) Technology;(HUM) ...</td>\n",
       "      <td>6/9/2022 0:00</td>\n",
       "      <td>10.1155/2022/7747192</td>\n",
       "      <td>35720936.0</td>\n",
       "      <td>+Concerns/Issues About Data;+Concerns/Issues A...</td>\n",
       "    </tr>\n",
       "    <tr>\n",
       "      <th>5</th>\n",
       "      <td>(B/T) Computer Science;(B/T) Technology;(HSC) ...</td>\n",
       "      <td>6/27/2022 0:00</td>\n",
       "      <td>10.1155/2022/8023271</td>\n",
       "      <td>35795742.0</td>\n",
       "      <td>+Concerns/Issues About Data;+Concerns/Issues A...</td>\n",
       "    </tr>\n",
       "    <tr>\n",
       "      <th>6</th>\n",
       "      <td>(B/T) Business - Economics;(B/T) Business - Ma...</td>\n",
       "      <td>3/24/2022 0:00</td>\n",
       "      <td>10.1155/2022/7624135</td>\n",
       "      <td>35371241.0</td>\n",
       "      <td>+Concerns/Issues About Data;+Concerns/Issues A...</td>\n",
       "    </tr>\n",
       "    <tr>\n",
       "      <th>7</th>\n",
       "      <td>(B/T) Data Science;(HUM) Arts -Literature/Poet...</td>\n",
       "      <td>5/21/2022 0:00</td>\n",
       "      <td>10.1155/2022/6866134</td>\n",
       "      <td>35637726.0</td>\n",
       "      <td>+Concerns/Issues About Data;+Concerns/Issues A...</td>\n",
       "    </tr>\n",
       "  </tbody>\n",
       "</table>\n",
       "</div>"
      ],
      "text/plain": [
       "                                             Subject OriginalPaperDate  \\\n",
       "0  (BLS) Biology - Cancer;(BLS) Biology - Cellula...    4/20/2020 0:00   \n",
       "3  (B/T) Computer Science;(B/T) Technology;(HUM) ...     6/9/2022 0:00   \n",
       "5  (B/T) Computer Science;(B/T) Technology;(HSC) ...    6/27/2022 0:00   \n",
       "6  (B/T) Business - Economics;(B/T) Business - Ma...    3/24/2022 0:00   \n",
       "7  (B/T) Data Science;(HUM) Arts -Literature/Poet...    5/21/2022 0:00   \n",
       "\n",
       "       OriginalPaperDOI  OriginalPaperPubMedID  \\\n",
       "0    10.1002/kjm2.12212             32311203.0   \n",
       "3  10.1155/2022/7747192             35720936.0   \n",
       "5  10.1155/2022/8023271             35795742.0   \n",
       "6  10.1155/2022/7624135             35371241.0   \n",
       "7  10.1155/2022/6866134             35637726.0   \n",
       "\n",
       "                                              Reason  \n",
       "0  +Duplication of Image;+Error in Image;+Updated...  \n",
       "3  +Concerns/Issues About Data;+Concerns/Issues A...  \n",
       "5  +Concerns/Issues About Data;+Concerns/Issues A...  \n",
       "6  +Concerns/Issues About Data;+Concerns/Issues A...  \n",
       "7  +Concerns/Issues About Data;+Concerns/Issues A...  "
      ]
     },
     "execution_count": 249,
     "metadata": {},
     "output_type": "execute_result"
    }
   ],
   "source": [
    "df.head()"
   ]
  },
  {
   "cell_type": "markdown",
   "metadata": {},
   "source": [
    "converting values in OriginalPaperPubMedID from float to integer"
   ]
  },
  {
   "cell_type": "code",
   "execution_count": 250,
   "metadata": {},
   "outputs": [],
   "source": [
    "df['OriginalPaperPubMedID'] = df['OriginalPaperPubMedID'].astype(int)"
   ]
  },
  {
   "cell_type": "markdown",
   "metadata": {},
   "source": [
    "now restricting to timeframe between 2010 and 2024"
   ]
  },
  {
   "cell_type": "markdown",
   "metadata": {},
   "source": [
    "converting OriginalPaperDate to a datetime format"
   ]
  },
  {
   "cell_type": "code",
   "execution_count": 251,
   "metadata": {},
   "outputs": [],
   "source": [
    "df['OriginalPaperDate'] = pd.to_datetime(df['OriginalPaperDate'])"
   ]
  },
  {
   "cell_type": "code",
   "execution_count": 252,
   "metadata": {},
   "outputs": [
    {
     "data": {
      "text/html": [
       "<div>\n",
       "<style scoped>\n",
       "    .dataframe tbody tr th:only-of-type {\n",
       "        vertical-align: middle;\n",
       "    }\n",
       "\n",
       "    .dataframe tbody tr th {\n",
       "        vertical-align: top;\n",
       "    }\n",
       "\n",
       "    .dataframe thead th {\n",
       "        text-align: right;\n",
       "    }\n",
       "</style>\n",
       "<table border=\"1\" class=\"dataframe\">\n",
       "  <thead>\n",
       "    <tr style=\"text-align: right;\">\n",
       "      <th></th>\n",
       "      <th>Subject</th>\n",
       "      <th>OriginalPaperDate</th>\n",
       "      <th>OriginalPaperDOI</th>\n",
       "      <th>OriginalPaperPubMedID</th>\n",
       "      <th>Reason</th>\n",
       "    </tr>\n",
       "  </thead>\n",
       "  <tbody>\n",
       "    <tr>\n",
       "      <th>0</th>\n",
       "      <td>(BLS) Biology - Cancer;(BLS) Biology - Cellula...</td>\n",
       "      <td>2020-04-20</td>\n",
       "      <td>10.1002/kjm2.12212</td>\n",
       "      <td>32311203</td>\n",
       "      <td>+Duplication of Image;+Error in Image;+Updated...</td>\n",
       "    </tr>\n",
       "    <tr>\n",
       "      <th>3</th>\n",
       "      <td>(B/T) Computer Science;(B/T) Technology;(HUM) ...</td>\n",
       "      <td>2022-06-09</td>\n",
       "      <td>10.1155/2022/7747192</td>\n",
       "      <td>35720936</td>\n",
       "      <td>+Concerns/Issues About Data;+Concerns/Issues A...</td>\n",
       "    </tr>\n",
       "    <tr>\n",
       "      <th>5</th>\n",
       "      <td>(B/T) Computer Science;(B/T) Technology;(HSC) ...</td>\n",
       "      <td>2022-06-27</td>\n",
       "      <td>10.1155/2022/8023271</td>\n",
       "      <td>35795742</td>\n",
       "      <td>+Concerns/Issues About Data;+Concerns/Issues A...</td>\n",
       "    </tr>\n",
       "    <tr>\n",
       "      <th>6</th>\n",
       "      <td>(B/T) Business - Economics;(B/T) Business - Ma...</td>\n",
       "      <td>2022-03-24</td>\n",
       "      <td>10.1155/2022/7624135</td>\n",
       "      <td>35371241</td>\n",
       "      <td>+Concerns/Issues About Data;+Concerns/Issues A...</td>\n",
       "    </tr>\n",
       "    <tr>\n",
       "      <th>7</th>\n",
       "      <td>(B/T) Data Science;(HUM) Arts -Literature/Poet...</td>\n",
       "      <td>2022-05-21</td>\n",
       "      <td>10.1155/2022/6866134</td>\n",
       "      <td>35637726</td>\n",
       "      <td>+Concerns/Issues About Data;+Concerns/Issues A...</td>\n",
       "    </tr>\n",
       "  </tbody>\n",
       "</table>\n",
       "</div>"
      ],
      "text/plain": [
       "                                             Subject OriginalPaperDate  \\\n",
       "0  (BLS) Biology - Cancer;(BLS) Biology - Cellula...        2020-04-20   \n",
       "3  (B/T) Computer Science;(B/T) Technology;(HUM) ...        2022-06-09   \n",
       "5  (B/T) Computer Science;(B/T) Technology;(HSC) ...        2022-06-27   \n",
       "6  (B/T) Business - Economics;(B/T) Business - Ma...        2022-03-24   \n",
       "7  (B/T) Data Science;(HUM) Arts -Literature/Poet...        2022-05-21   \n",
       "\n",
       "       OriginalPaperDOI  OriginalPaperPubMedID  \\\n",
       "0    10.1002/kjm2.12212               32311203   \n",
       "3  10.1155/2022/7747192               35720936   \n",
       "5  10.1155/2022/8023271               35795742   \n",
       "6  10.1155/2022/7624135               35371241   \n",
       "7  10.1155/2022/6866134               35637726   \n",
       "\n",
       "                                              Reason  \n",
       "0  +Duplication of Image;+Error in Image;+Updated...  \n",
       "3  +Concerns/Issues About Data;+Concerns/Issues A...  \n",
       "5  +Concerns/Issues About Data;+Concerns/Issues A...  \n",
       "6  +Concerns/Issues About Data;+Concerns/Issues A...  \n",
       "7  +Concerns/Issues About Data;+Concerns/Issues A...  "
      ]
     },
     "execution_count": 252,
     "metadata": {},
     "output_type": "execute_result"
    }
   ],
   "source": [
    "df.head()"
   ]
  },
  {
   "cell_type": "markdown",
   "metadata": {},
   "source": [
    "creating a new column called 'year'"
   ]
  },
  {
   "cell_type": "code",
   "execution_count": 253,
   "metadata": {},
   "outputs": [],
   "source": [
    "df['year'] = df['OriginalPaperDate'].dt.year\n",
    "\n",
    "#dropping OriginalPaperDate column\n",
    "df = df.drop(columns = ['OriginalPaperDate'])"
   ]
  },
  {
   "cell_type": "code",
   "execution_count": 254,
   "metadata": {},
   "outputs": [
    {
     "data": {
      "text/html": [
       "<div>\n",
       "<style scoped>\n",
       "    .dataframe tbody tr th:only-of-type {\n",
       "        vertical-align: middle;\n",
       "    }\n",
       "\n",
       "    .dataframe tbody tr th {\n",
       "        vertical-align: top;\n",
       "    }\n",
       "\n",
       "    .dataframe thead th {\n",
       "        text-align: right;\n",
       "    }\n",
       "</style>\n",
       "<table border=\"1\" class=\"dataframe\">\n",
       "  <thead>\n",
       "    <tr style=\"text-align: right;\">\n",
       "      <th></th>\n",
       "      <th>Subject</th>\n",
       "      <th>OriginalPaperDOI</th>\n",
       "      <th>OriginalPaperPubMedID</th>\n",
       "      <th>Reason</th>\n",
       "      <th>year</th>\n",
       "    </tr>\n",
       "  </thead>\n",
       "  <tbody>\n",
       "    <tr>\n",
       "      <th>0</th>\n",
       "      <td>(BLS) Biology - Cancer;(BLS) Biology - Cellula...</td>\n",
       "      <td>10.1002/kjm2.12212</td>\n",
       "      <td>32311203</td>\n",
       "      <td>+Duplication of Image;+Error in Image;+Updated...</td>\n",
       "      <td>2020</td>\n",
       "    </tr>\n",
       "    <tr>\n",
       "      <th>3</th>\n",
       "      <td>(B/T) Computer Science;(B/T) Technology;(HUM) ...</td>\n",
       "      <td>10.1155/2022/7747192</td>\n",
       "      <td>35720936</td>\n",
       "      <td>+Concerns/Issues About Data;+Concerns/Issues A...</td>\n",
       "      <td>2022</td>\n",
       "    </tr>\n",
       "    <tr>\n",
       "      <th>5</th>\n",
       "      <td>(B/T) Computer Science;(B/T) Technology;(HSC) ...</td>\n",
       "      <td>10.1155/2022/8023271</td>\n",
       "      <td>35795742</td>\n",
       "      <td>+Concerns/Issues About Data;+Concerns/Issues A...</td>\n",
       "      <td>2022</td>\n",
       "    </tr>\n",
       "    <tr>\n",
       "      <th>6</th>\n",
       "      <td>(B/T) Business - Economics;(B/T) Business - Ma...</td>\n",
       "      <td>10.1155/2022/7624135</td>\n",
       "      <td>35371241</td>\n",
       "      <td>+Concerns/Issues About Data;+Concerns/Issues A...</td>\n",
       "      <td>2022</td>\n",
       "    </tr>\n",
       "    <tr>\n",
       "      <th>7</th>\n",
       "      <td>(B/T) Data Science;(HUM) Arts -Literature/Poet...</td>\n",
       "      <td>10.1155/2022/6866134</td>\n",
       "      <td>35637726</td>\n",
       "      <td>+Concerns/Issues About Data;+Concerns/Issues A...</td>\n",
       "      <td>2022</td>\n",
       "    </tr>\n",
       "  </tbody>\n",
       "</table>\n",
       "</div>"
      ],
      "text/plain": [
       "                                             Subject      OriginalPaperDOI  \\\n",
       "0  (BLS) Biology - Cancer;(BLS) Biology - Cellula...    10.1002/kjm2.12212   \n",
       "3  (B/T) Computer Science;(B/T) Technology;(HUM) ...  10.1155/2022/7747192   \n",
       "5  (B/T) Computer Science;(B/T) Technology;(HSC) ...  10.1155/2022/8023271   \n",
       "6  (B/T) Business - Economics;(B/T) Business - Ma...  10.1155/2022/7624135   \n",
       "7  (B/T) Data Science;(HUM) Arts -Literature/Poet...  10.1155/2022/6866134   \n",
       "\n",
       "   OriginalPaperPubMedID                                             Reason  \\\n",
       "0               32311203  +Duplication of Image;+Error in Image;+Updated...   \n",
       "3               35720936  +Concerns/Issues About Data;+Concerns/Issues A...   \n",
       "5               35795742  +Concerns/Issues About Data;+Concerns/Issues A...   \n",
       "6               35371241  +Concerns/Issues About Data;+Concerns/Issues A...   \n",
       "7               35637726  +Concerns/Issues About Data;+Concerns/Issues A...   \n",
       "\n",
       "   year  \n",
       "0  2020  \n",
       "3  2022  \n",
       "5  2022  \n",
       "6  2022  \n",
       "7  2022  "
      ]
     },
     "execution_count": 254,
     "metadata": {},
     "output_type": "execute_result"
    }
   ],
   "source": [
    "df.head()"
   ]
  },
  {
   "cell_type": "markdown",
   "metadata": {},
   "source": [
    "Filtering based on retraction reason to include only reasons for scientific misconduct"
   ]
  },
  {
   "cell_type": "code",
   "execution_count": 255,
   "metadata": {},
   "outputs": [],
   "source": [
    "#reasons to keep a paper in the dataset\n",
    "reasons = [\n",
    "    \"Papermill\",\n",
    "    \"Plagiarism of Text\",\n",
    "    \"Plagiarism of Image\",\n",
    "    \"Results Not Reproducible\",\n",
    "    \"Manipulation of Images\",\n",
    "    \"Manipulation of Results\",\n",
    "    \"Falsification/Fabrication of Data\",\n",
    "    \"Falsification/Fabrication of Image\",\n",
    "    \"Falsification/Fabrication of Results\"\n",
    "]\n",
    "\n",
    "regular_expression = '|'.join(reasons)\n",
    "df = df[df['Reason'].str.contains(regular_expression, case = False, na = False)]\n"
   ]
  },
  {
   "cell_type": "code",
   "execution_count": 256,
   "metadata": {},
   "outputs": [
    {
     "data": {
      "text/plain": [
       "(3684, 5)"
      ]
     },
     "execution_count": 256,
     "metadata": {},
     "output_type": "execute_result"
    }
   ],
   "source": [
    "df.shape"
   ]
  },
  {
   "cell_type": "code",
   "execution_count": 257,
   "metadata": {},
   "outputs": [
    {
     "data": {
      "text/html": [
       "<div>\n",
       "<style scoped>\n",
       "    .dataframe tbody tr th:only-of-type {\n",
       "        vertical-align: middle;\n",
       "    }\n",
       "\n",
       "    .dataframe tbody tr th {\n",
       "        vertical-align: top;\n",
       "    }\n",
       "\n",
       "    .dataframe thead th {\n",
       "        text-align: right;\n",
       "    }\n",
       "</style>\n",
       "<table border=\"1\" class=\"dataframe\">\n",
       "  <thead>\n",
       "    <tr style=\"text-align: right;\">\n",
       "      <th></th>\n",
       "      <th>Subject</th>\n",
       "      <th>OriginalPaperDOI</th>\n",
       "      <th>OriginalPaperPubMedID</th>\n",
       "      <th>Reason</th>\n",
       "      <th>year</th>\n",
       "    </tr>\n",
       "  </thead>\n",
       "  <tbody>\n",
       "    <tr>\n",
       "      <th>10</th>\n",
       "      <td>(BLS) Biochemistry;(BLS) Biology - Cellular;(B...</td>\n",
       "      <td>10.1186/s11658-018-0107-z</td>\n",
       "      <td>30140293</td>\n",
       "      <td>+Concerns/Issues About Image;+Concerns/Issues ...</td>\n",
       "      <td>2018</td>\n",
       "    </tr>\n",
       "    <tr>\n",
       "      <th>28</th>\n",
       "      <td>(BLS) Biochemistry;(BLS) Biology - Cellular;(B...</td>\n",
       "      <td>10.1007/s11033-019-05018-9</td>\n",
       "      <td>31396803</td>\n",
       "      <td>+Concerns/Issues About Image;+Duplication of I...</td>\n",
       "      <td>2019</td>\n",
       "    </tr>\n",
       "    <tr>\n",
       "      <th>93</th>\n",
       "      <td>(BLS) Anatomy/Physiology;(BLS) Biochemistry;</td>\n",
       "      <td>10.1007/s00210-019-01645-y</td>\n",
       "      <td>30968231</td>\n",
       "      <td>+Concerns/Issues About Image;+Duplication of I...</td>\n",
       "      <td>2019</td>\n",
       "    </tr>\n",
       "    <tr>\n",
       "      <th>94</th>\n",
       "      <td>(BLS) Biochemistry;(BLS) Biology - Cellular;(B...</td>\n",
       "      <td>10.1038/s41419-018-1253-y</td>\n",
       "      <td>30622236</td>\n",
       "      <td>+Concerns/Issues About Image;+Duplication of I...</td>\n",
       "      <td>2019</td>\n",
       "    </tr>\n",
       "    <tr>\n",
       "      <th>164</th>\n",
       "      <td>(BLS) Biochemistry;(BLS) Biology - Cancer;(BLS...</td>\n",
       "      <td>10.1007/s11095-022-03297-9</td>\n",
       "      <td>35715669</td>\n",
       "      <td>+Concerns/Issues About Image;+Duplication of I...</td>\n",
       "      <td>2022</td>\n",
       "    </tr>\n",
       "  </tbody>\n",
       "</table>\n",
       "</div>"
      ],
      "text/plain": [
       "                                               Subject  \\\n",
       "10   (BLS) Biochemistry;(BLS) Biology - Cellular;(B...   \n",
       "28   (BLS) Biochemistry;(BLS) Biology - Cellular;(B...   \n",
       "93        (BLS) Anatomy/Physiology;(BLS) Biochemistry;   \n",
       "94   (BLS) Biochemistry;(BLS) Biology - Cellular;(B...   \n",
       "164  (BLS) Biochemistry;(BLS) Biology - Cancer;(BLS...   \n",
       "\n",
       "               OriginalPaperDOI  OriginalPaperPubMedID  \\\n",
       "10    10.1186/s11658-018-0107-z               30140293   \n",
       "28   10.1007/s11033-019-05018-9               31396803   \n",
       "93   10.1007/s00210-019-01645-y               30968231   \n",
       "94    10.1038/s41419-018-1253-y               30622236   \n",
       "164  10.1007/s11095-022-03297-9               35715669   \n",
       "\n",
       "                                                Reason  year  \n",
       "10   +Concerns/Issues About Image;+Concerns/Issues ...  2018  \n",
       "28   +Concerns/Issues About Image;+Duplication of I...  2019  \n",
       "93   +Concerns/Issues About Image;+Duplication of I...  2019  \n",
       "94   +Concerns/Issues About Image;+Duplication of I...  2019  \n",
       "164  +Concerns/Issues About Image;+Duplication of I...  2022  "
      ]
     },
     "execution_count": 257,
     "metadata": {},
     "output_type": "execute_result"
    }
   ],
   "source": [
    "df.head()"
   ]
  },
  {
   "cell_type": "markdown",
   "metadata": {},
   "source": [
    "Now filtering based on domain"
   ]
  },
  {
   "cell_type": "code",
   "execution_count": 258,
   "metadata": {},
   "outputs": [],
   "source": [
    "#including only biology and medicine papers\n",
    "domain_pattern = r'\\(BLS\\)|\\(HSC\\)'\n",
    "df = df[df['Subject'].str.contains(domain_pattern, case = False, na = False)]"
   ]
  },
  {
   "cell_type": "code",
   "execution_count": 259,
   "metadata": {},
   "outputs": [
    {
     "data": {
      "text/plain": [
       "(3475, 5)"
      ]
     },
     "execution_count": 259,
     "metadata": {},
     "output_type": "execute_result"
    }
   ],
   "source": [
    "df.shape"
   ]
  },
  {
   "cell_type": "code",
   "execution_count": 260,
   "metadata": {},
   "outputs": [
    {
     "data": {
      "text/html": [
       "<div>\n",
       "<style scoped>\n",
       "    .dataframe tbody tr th:only-of-type {\n",
       "        vertical-align: middle;\n",
       "    }\n",
       "\n",
       "    .dataframe tbody tr th {\n",
       "        vertical-align: top;\n",
       "    }\n",
       "\n",
       "    .dataframe thead th {\n",
       "        text-align: right;\n",
       "    }\n",
       "</style>\n",
       "<table border=\"1\" class=\"dataframe\">\n",
       "  <thead>\n",
       "    <tr style=\"text-align: right;\">\n",
       "      <th></th>\n",
       "      <th>Subject</th>\n",
       "      <th>OriginalPaperDOI</th>\n",
       "      <th>OriginalPaperPubMedID</th>\n",
       "      <th>Reason</th>\n",
       "      <th>year</th>\n",
       "    </tr>\n",
       "  </thead>\n",
       "  <tbody>\n",
       "    <tr>\n",
       "      <th>10</th>\n",
       "      <td>(BLS) Biochemistry;(BLS) Biology - Cellular;(B...</td>\n",
       "      <td>10.1186/s11658-018-0107-z</td>\n",
       "      <td>30140293</td>\n",
       "      <td>+Concerns/Issues About Image;+Concerns/Issues ...</td>\n",
       "      <td>2018</td>\n",
       "    </tr>\n",
       "    <tr>\n",
       "      <th>28</th>\n",
       "      <td>(BLS) Biochemistry;(BLS) Biology - Cellular;(B...</td>\n",
       "      <td>10.1007/s11033-019-05018-9</td>\n",
       "      <td>31396803</td>\n",
       "      <td>+Concerns/Issues About Image;+Duplication of I...</td>\n",
       "      <td>2019</td>\n",
       "    </tr>\n",
       "    <tr>\n",
       "      <th>93</th>\n",
       "      <td>(BLS) Anatomy/Physiology;(BLS) Biochemistry;</td>\n",
       "      <td>10.1007/s00210-019-01645-y</td>\n",
       "      <td>30968231</td>\n",
       "      <td>+Concerns/Issues About Image;+Duplication of I...</td>\n",
       "      <td>2019</td>\n",
       "    </tr>\n",
       "    <tr>\n",
       "      <th>94</th>\n",
       "      <td>(BLS) Biochemistry;(BLS) Biology - Cellular;(B...</td>\n",
       "      <td>10.1038/s41419-018-1253-y</td>\n",
       "      <td>30622236</td>\n",
       "      <td>+Concerns/Issues About Image;+Duplication of I...</td>\n",
       "      <td>2019</td>\n",
       "    </tr>\n",
       "    <tr>\n",
       "      <th>164</th>\n",
       "      <td>(BLS) Biochemistry;(BLS) Biology - Cancer;(BLS...</td>\n",
       "      <td>10.1007/s11095-022-03297-9</td>\n",
       "      <td>35715669</td>\n",
       "      <td>+Concerns/Issues About Image;+Duplication of I...</td>\n",
       "      <td>2022</td>\n",
       "    </tr>\n",
       "  </tbody>\n",
       "</table>\n",
       "</div>"
      ],
      "text/plain": [
       "                                               Subject  \\\n",
       "10   (BLS) Biochemistry;(BLS) Biology - Cellular;(B...   \n",
       "28   (BLS) Biochemistry;(BLS) Biology - Cellular;(B...   \n",
       "93        (BLS) Anatomy/Physiology;(BLS) Biochemistry;   \n",
       "94   (BLS) Biochemistry;(BLS) Biology - Cellular;(B...   \n",
       "164  (BLS) Biochemistry;(BLS) Biology - Cancer;(BLS...   \n",
       "\n",
       "               OriginalPaperDOI  OriginalPaperPubMedID  \\\n",
       "10    10.1186/s11658-018-0107-z               30140293   \n",
       "28   10.1007/s11033-019-05018-9               31396803   \n",
       "93   10.1007/s00210-019-01645-y               30968231   \n",
       "94    10.1038/s41419-018-1253-y               30622236   \n",
       "164  10.1007/s11095-022-03297-9               35715669   \n",
       "\n",
       "                                                Reason  year  \n",
       "10   +Concerns/Issues About Image;+Concerns/Issues ...  2018  \n",
       "28   +Concerns/Issues About Image;+Duplication of I...  2019  \n",
       "93   +Concerns/Issues About Image;+Duplication of I...  2019  \n",
       "94   +Concerns/Issues About Image;+Duplication of I...  2019  \n",
       "164  +Concerns/Issues About Image;+Duplication of I...  2022  "
      ]
     },
     "execution_count": 260,
     "metadata": {},
     "output_type": "execute_result"
    }
   ],
   "source": [
    "df.head()"
   ]
  },
  {
   "cell_type": "markdown",
   "metadata": {},
   "source": [
    "Now that we have our retractions DOIs we extract the metadata from Scopus API and add it to main dataframe"
   ]
  },
  {
   "cell_type": "code",
   "execution_count": 61,
   "metadata": {},
   "outputs": [
    {
     "data": {
      "text/html": [
       "<div>\n",
       "<style scoped>\n",
       "    .dataframe tbody tr th:only-of-type {\n",
       "        vertical-align: middle;\n",
       "    }\n",
       "\n",
       "    .dataframe tbody tr th {\n",
       "        vertical-align: top;\n",
       "    }\n",
       "\n",
       "    .dataframe thead th {\n",
       "        text-align: right;\n",
       "    }\n",
       "</style>\n",
       "<table border=\"1\" class=\"dataframe\">\n",
       "  <thead>\n",
       "    <tr style=\"text-align: right;\">\n",
       "      <th></th>\n",
       "      <th>Unnamed: 0</th>\n",
       "      <th>Subject</th>\n",
       "      <th>DOI</th>\n",
       "      <th>OriginalPaperPubMedID</th>\n",
       "      <th>Reason</th>\n",
       "      <th>year</th>\n",
       "      <th>citation_count</th>\n",
       "      <th>affiliation_country</th>\n",
       "      <th>numer_of_authors</th>\n",
       "      <th>open_access</th>\n",
       "      <th>orcid_availability</th>\n",
       "      <th>hospital_affiliation</th>\n",
       "      <th>title_count</th>\n",
       "      <th>abstract_count</th>\n",
       "      <th>abstract</th>\n",
       "    </tr>\n",
       "  </thead>\n",
       "  <tbody>\n",
       "    <tr>\n",
       "      <th>0</th>\n",
       "      <td>10</td>\n",
       "      <td>(BLS) Biochemistry;(BLS) Biology - Cellular;(B...</td>\n",
       "      <td>10.1186/s11658-018-0107-z</td>\n",
       "      <td>30140293</td>\n",
       "      <td>+Concerns/Issues About Image;+Concerns/Issues ...</td>\n",
       "      <td>2018</td>\n",
       "      <td>23</td>\n",
       "      <td>China</td>\n",
       "      <td>9</td>\n",
       "      <td>True</td>\n",
       "      <td>False</td>\n",
       "      <td>True</td>\n",
       "      <td>15</td>\n",
       "      <td>268</td>\n",
       "      <td>Background: Inflammation is an important patho...</td>\n",
       "    </tr>\n",
       "    <tr>\n",
       "      <th>1</th>\n",
       "      <td>28</td>\n",
       "      <td>(BLS) Biochemistry;(BLS) Biology - Cellular;(B...</td>\n",
       "      <td>10.1007/s11033-019-05018-9</td>\n",
       "      <td>31396803</td>\n",
       "      <td>+Concerns/Issues About Image;+Duplication of I...</td>\n",
       "      <td>2019</td>\n",
       "      <td>13</td>\n",
       "      <td>Saudi Arabia</td>\n",
       "      <td>9</td>\n",
       "      <td>False</td>\n",
       "      <td>True</td>\n",
       "      <td>True</td>\n",
       "      <td>19</td>\n",
       "      <td>229</td>\n",
       "      <td>Parkinson’s disease (PD) is a chronic neurodeg...</td>\n",
       "    </tr>\n",
       "    <tr>\n",
       "      <th>2</th>\n",
       "      <td>93</td>\n",
       "      <td>(BLS) Anatomy/Physiology;(BLS) Biochemistry;</td>\n",
       "      <td>10.1007/s00210-019-01645-y</td>\n",
       "      <td>30968231</td>\n",
       "      <td>+Concerns/Issues About Image;+Duplication of I...</td>\n",
       "      <td>2019</td>\n",
       "      <td>32</td>\n",
       "      <td>Pakistan</td>\n",
       "      <td>10</td>\n",
       "      <td>False</td>\n",
       "      <td>True</td>\n",
       "      <td>False</td>\n",
       "      <td>20</td>\n",
       "      <td>248</td>\n",
       "      <td>Inflammation is being a protective mechanism o...</td>\n",
       "    </tr>\n",
       "    <tr>\n",
       "      <th>3</th>\n",
       "      <td>94</td>\n",
       "      <td>(BLS) Biochemistry;(BLS) Biology - Cellular;(B...</td>\n",
       "      <td>10.1038/s41419-018-1253-y</td>\n",
       "      <td>30622236</td>\n",
       "      <td>+Concerns/Issues About Image;+Duplication of I...</td>\n",
       "      <td>2019</td>\n",
       "      <td>43</td>\n",
       "      <td>China</td>\n",
       "      <td>7</td>\n",
       "      <td>True</td>\n",
       "      <td>True</td>\n",
       "      <td>True</td>\n",
       "      <td>16</td>\n",
       "      <td>182</td>\n",
       "      <td>Accumulating evidence indicates that the pluri...</td>\n",
       "    </tr>\n",
       "    <tr>\n",
       "      <th>4</th>\n",
       "      <td>164</td>\n",
       "      <td>(BLS) Biochemistry;(BLS) Biology - Cancer;(BLS...</td>\n",
       "      <td>10.1007/s11095-022-03297-9</td>\n",
       "      <td>35715669</td>\n",
       "      <td>+Concerns/Issues About Image;+Duplication of I...</td>\n",
       "      <td>2022</td>\n",
       "      <td>9</td>\n",
       "      <td>Iran</td>\n",
       "      <td>17</td>\n",
       "      <td>False</td>\n",
       "      <td>True</td>\n",
       "      <td>True</td>\n",
       "      <td>20</td>\n",
       "      <td>234</td>\n",
       "      <td>Purpose: Increasing the efficiency of unsucces...</td>\n",
       "    </tr>\n",
       "  </tbody>\n",
       "</table>\n",
       "</div>"
      ],
      "text/plain": [
       "   Unnamed: 0                                            Subject  \\\n",
       "0          10  (BLS) Biochemistry;(BLS) Biology - Cellular;(B...   \n",
       "1          28  (BLS) Biochemistry;(BLS) Biology - Cellular;(B...   \n",
       "2          93       (BLS) Anatomy/Physiology;(BLS) Biochemistry;   \n",
       "3          94  (BLS) Biochemistry;(BLS) Biology - Cellular;(B...   \n",
       "4         164  (BLS) Biochemistry;(BLS) Biology - Cancer;(BLS...   \n",
       "\n",
       "                          DOI  OriginalPaperPubMedID  \\\n",
       "0   10.1186/s11658-018-0107-z               30140293   \n",
       "1  10.1007/s11033-019-05018-9               31396803   \n",
       "2  10.1007/s00210-019-01645-y               30968231   \n",
       "3   10.1038/s41419-018-1253-y               30622236   \n",
       "4  10.1007/s11095-022-03297-9               35715669   \n",
       "\n",
       "                                              Reason  year citation_count  \\\n",
       "0  +Concerns/Issues About Image;+Concerns/Issues ...  2018             23   \n",
       "1  +Concerns/Issues About Image;+Duplication of I...  2019             13   \n",
       "2  +Concerns/Issues About Image;+Duplication of I...  2019             32   \n",
       "3  +Concerns/Issues About Image;+Duplication of I...  2019             43   \n",
       "4  +Concerns/Issues About Image;+Duplication of I...  2022              9   \n",
       "\n",
       "  affiliation_country  numer_of_authors open_access  orcid_availability  \\\n",
       "0               China                 9        True               False   \n",
       "1        Saudi Arabia                 9       False                True   \n",
       "2            Pakistan                10       False                True   \n",
       "3               China                 7        True                True   \n",
       "4                Iran                17       False                True   \n",
       "\n",
       "   hospital_affiliation  title_count  abstract_count  \\\n",
       "0                  True           15             268   \n",
       "1                  True           19             229   \n",
       "2                 False           20             248   \n",
       "3                  True           16             182   \n",
       "4                  True           20             234   \n",
       "\n",
       "                                            abstract  \n",
       "0  Background: Inflammation is an important patho...  \n",
       "1  Parkinson’s disease (PD) is a chronic neurodeg...  \n",
       "2  Inflammation is being a protective mechanism o...  \n",
       "3  Accumulating evidence indicates that the pluri...  \n",
       "4  Purpose: Increasing the efficiency of unsucces...  "
      ]
     },
     "execution_count": 61,
     "metadata": {},
     "output_type": "execute_result"
    }
   ],
   "source": [
    "df.head()"
   ]
  },
  {
   "cell_type": "markdown",
   "metadata": {},
   "source": [
    "saving retracted papers to a csv"
   ]
  },
  {
   "cell_type": "code",
   "execution_count": 62,
   "metadata": {},
   "outputs": [],
   "source": [
    "df.to_csv('D:\\\\paper\\\\retracted.csv')"
   ]
  },
  {
   "cell_type": "code",
   "execution_count": 42,
   "metadata": {},
   "outputs": [],
   "source": [
    "retracted = pd.read_csv('D:\\\\paper\\\\retracted.csv')"
   ]
  },
  {
   "cell_type": "code",
   "execution_count": 44,
   "metadata": {},
   "outputs": [],
   "source": [
    "retracted.rename(columns={'OriginalPaperDOI': 'DOI'}, inplace=True)"
   ]
  },
  {
   "cell_type": "markdown",
   "metadata": {},
   "source": [
    "now retrieving the genuine (non retracted papers)"
   ]
  },
  {
   "cell_type": "markdown",
   "metadata": {},
   "source": [
    "For the the non retractions DOIs from a database of PubMed data are retrived"
   ]
  },
  {
   "cell_type": "code",
   "execution_count": 38,
   "metadata": {},
   "outputs": [
    {
     "name": "stderr",
     "output_type": "stream",
     "text": [
      "C:\\Users\\oreb45ap\\AppData\\Local\\Temp\\ipykernel_21644\\3700354433.py:27: UserWarning: pandas only supports SQLAlchemy connectable (engine/connection) or database string URI or sqlite3 DBAPI2 connection. Other DBAPI2 objects are not tested. Please consider using SQLAlchemy.\n",
      "  genuine = pd.read_sql_query(query, connection)\n"
     ]
    }
   ],
   "source": [
    "import mysql.connector\n",
    "import os\n",
    "\n",
    "#getting database credentials from encvironment variables\n",
    "host = os.getenv('DB_HOST')\n",
    "username = os.getenv('DB_USERNAME')\n",
    "password = os.getenv('DB_PASSWORD')\n",
    "database = os.getenv('DB_NAME')\n",
    "\n",
    "#connecting to remote database\n",
    "connection = mysql.connector.connect(\n",
    "    host = host,\n",
    "    username = username,\n",
    "    password = password,\n",
    "    database = database\n",
    ")\n",
    "\n",
    "query = \"\"\"\n",
    "        SELECT DOI\n",
    "        FROM papers\n",
    "        WHERE PublicationYear BETWEEN 2010 and 2024\n",
    "        ORDER BY RAND()\n",
    "        LIMIT 3475\n",
    "        \"\"\"\n",
    "\n",
    "\n",
    "genuine = pd.read_sql_query(query, connection)\n",
    "connection.close()"
   ]
  },
  {
   "cell_type": "code",
   "execution_count": 39,
   "metadata": {},
   "outputs": [
    {
     "data": {
      "text/html": [
       "<div>\n",
       "<style scoped>\n",
       "    .dataframe tbody tr th:only-of-type {\n",
       "        vertical-align: middle;\n",
       "    }\n",
       "\n",
       "    .dataframe tbody tr th {\n",
       "        vertical-align: top;\n",
       "    }\n",
       "\n",
       "    .dataframe thead th {\n",
       "        text-align: right;\n",
       "    }\n",
       "</style>\n",
       "<table border=\"1\" class=\"dataframe\">\n",
       "  <thead>\n",
       "    <tr style=\"text-align: right;\">\n",
       "      <th></th>\n",
       "      <th>DOI</th>\n",
       "    </tr>\n",
       "  </thead>\n",
       "  <tbody>\n",
       "    <tr>\n",
       "      <th>0</th>\n",
       "      <td>10.2105/AJPH.2017.304142</td>\n",
       "    </tr>\n",
       "    <tr>\n",
       "      <th>1</th>\n",
       "      <td>10.1002/jcla.22917</td>\n",
       "    </tr>\n",
       "    <tr>\n",
       "      <th>2</th>\n",
       "      <td>10.1055/s-0043-1777016</td>\n",
       "    </tr>\n",
       "    <tr>\n",
       "      <th>3</th>\n",
       "      <td>10.1021/jf903349y</td>\n",
       "    </tr>\n",
       "    <tr>\n",
       "      <th>4</th>\n",
       "      <td>10.1016/j.jenvman.2021.113684</td>\n",
       "    </tr>\n",
       "  </tbody>\n",
       "</table>\n",
       "</div>"
      ],
      "text/plain": [
       "                             DOI\n",
       "0       10.2105/AJPH.2017.304142\n",
       "1             10.1002/jcla.22917\n",
       "2         10.1055/s-0043-1777016\n",
       "3              10.1021/jf903349y\n",
       "4  10.1016/j.jenvman.2021.113684"
      ]
     },
     "execution_count": 39,
     "metadata": {},
     "output_type": "execute_result"
    }
   ],
   "source": [
    "genuine.head()"
   ]
  },
  {
   "cell_type": "code",
   "execution_count": 40,
   "metadata": {},
   "outputs": [
    {
     "data": {
      "text/plain": [
       "(3475, 1)"
      ]
     },
     "execution_count": 40,
     "metadata": {},
     "output_type": "execute_result"
    }
   ],
   "source": [
    "genuine.shape"
   ]
  },
  {
   "cell_type": "markdown",
   "metadata": {},
   "source": [
    "checking for common papers among the retracted and non retracted based on DOIS"
   ]
  },
  {
   "cell_type": "code",
   "execution_count": 49,
   "metadata": {},
   "outputs": [
    {
     "name": "stdout",
     "output_type": "stream",
     "text": [
      "common papers present\n",
      "10.1016/j.neuroscience.2013.12.064\n"
     ]
    }
   ],
   "source": [
    "merged = pd.merge(retracted, genuine, on = 'DOI', how = 'inner')\n",
    "\n",
    "if not merged_df.empty:\n",
    "    print(\"common papers present\")\n",
    "    for ind, doi in merged.iterrows():\n",
    "        print(doi['DOI'])\n",
    "else:\n",
    "    print(\"no common papers present\")"
   ]
  },
  {
   "cell_type": "markdown",
   "metadata": {},
   "source": [
    "only one common DOI, hence this DOI is dropped from the non_retracted papers"
   ]
  },
  {
   "cell_type": "code",
   "execution_count": 52,
   "metadata": {},
   "outputs": [],
   "source": [
    "genuine = genuine[genuine['DOI'] != '10.1016/j.neuroscience.2013.12.064']"
   ]
  },
  {
   "cell_type": "code",
   "execution_count": 53,
   "metadata": {},
   "outputs": [
    {
     "data": {
      "text/plain": [
       "(3474, 1)"
      ]
     },
     "execution_count": 53,
     "metadata": {},
     "output_type": "execute_result"
    }
   ],
   "source": [
    "genuine.shape"
   ]
  },
  {
   "cell_type": "markdown",
   "metadata": {},
   "source": [
    " metadata extracted for non retractions from Scopus"
   ]
  },
  {
   "cell_type": "code",
   "execution_count": 64,
   "metadata": {},
   "outputs": [
    {
     "data": {
      "text/html": [
       "<div>\n",
       "<style scoped>\n",
       "    .dataframe tbody tr th:only-of-type {\n",
       "        vertical-align: middle;\n",
       "    }\n",
       "\n",
       "    .dataframe tbody tr th {\n",
       "        vertical-align: top;\n",
       "    }\n",
       "\n",
       "    .dataframe thead th {\n",
       "        text-align: right;\n",
       "    }\n",
       "</style>\n",
       "<table border=\"1\" class=\"dataframe\">\n",
       "  <thead>\n",
       "    <tr style=\"text-align: right;\">\n",
       "      <th></th>\n",
       "      <th>DOI</th>\n",
       "      <th>citation_count</th>\n",
       "      <th>affiliation_country</th>\n",
       "      <th>numer_of_authors</th>\n",
       "      <th>open_access</th>\n",
       "      <th>orcid_availability</th>\n",
       "      <th>hospital_affiliation</th>\n",
       "      <th>title_count</th>\n",
       "      <th>abstract_count</th>\n",
       "      <th>abstract</th>\n",
       "    </tr>\n",
       "  </thead>\n",
       "  <tbody>\n",
       "    <tr>\n",
       "      <th>0</th>\n",
       "      <td>10.2105/AJPH.2017.304142</td>\n",
       "      <td>36</td>\n",
       "      <td>United States</td>\n",
       "      <td>3.0</td>\n",
       "      <td>False</td>\n",
       "      <td>False</td>\n",
       "      <td>False</td>\n",
       "      <td>15.0</td>\n",
       "      <td>161.0</td>\n",
       "      <td>Objectives: To assess cohort effects in prescr...</td>\n",
       "    </tr>\n",
       "    <tr>\n",
       "      <th>1</th>\n",
       "      <td>10.1002/jcla.22917</td>\n",
       "      <td>27</td>\n",
       "      <td>China</td>\n",
       "      <td>3.0</td>\n",
       "      <td>True</td>\n",
       "      <td>True</td>\n",
       "      <td>True</td>\n",
       "      <td>17.0</td>\n",
       "      <td>244.0</td>\n",
       "      <td>Aim: This study aimed to investigate the corre...</td>\n",
       "    </tr>\n",
       "    <tr>\n",
       "      <th>2</th>\n",
       "      <td>10.1055/s-0043-1777016</td>\n",
       "      <td>0</td>\n",
       "      <td>United States</td>\n",
       "      <td>2.0</td>\n",
       "      <td>False</td>\n",
       "      <td>True</td>\n",
       "      <td>True</td>\n",
       "      <td>9.0</td>\n",
       "      <td>138.0</td>\n",
       "      <td>Obesity has been associated with a multitude o...</td>\n",
       "    </tr>\n",
       "    <tr>\n",
       "      <th>3</th>\n",
       "      <td>10.1021/jf903349y</td>\n",
       "      <td>2</td>\n",
       "      <td>United Kingdom</td>\n",
       "      <td>2.0</td>\n",
       "      <td>False</td>\n",
       "      <td>False</td>\n",
       "      <td>False</td>\n",
       "      <td>16.0</td>\n",
       "      <td>200.0</td>\n",
       "      <td>Recombinant bovine somatotropin (rbST), also k...</td>\n",
       "    </tr>\n",
       "    <tr>\n",
       "      <th>4</th>\n",
       "      <td>10.1016/j.jenvman.2021.113684</td>\n",
       "      <td>10</td>\n",
       "      <td>India</td>\n",
       "      <td>3.0</td>\n",
       "      <td>False</td>\n",
       "      <td>True</td>\n",
       "      <td>False</td>\n",
       "      <td>13.0</td>\n",
       "      <td>242.0</td>\n",
       "      <td>Biomethanation potential of lignin rich residu...</td>\n",
       "    </tr>\n",
       "  </tbody>\n",
       "</table>\n",
       "</div>"
      ],
      "text/plain": [
       "                             DOI citation_count affiliation_country  \\\n",
       "0       10.2105/AJPH.2017.304142             36       United States   \n",
       "1             10.1002/jcla.22917             27               China   \n",
       "2         10.1055/s-0043-1777016              0       United States   \n",
       "3              10.1021/jf903349y              2      United Kingdom   \n",
       "4  10.1016/j.jenvman.2021.113684             10               India   \n",
       "\n",
       "   numer_of_authors open_access orcid_availability hospital_affiliation  \\\n",
       "0               3.0       False              False                False   \n",
       "1               3.0        True               True                 True   \n",
       "2               2.0       False               True                 True   \n",
       "3               2.0       False              False                False   \n",
       "4               3.0       False               True                False   \n",
       "\n",
       "   title_count  abstract_count  \\\n",
       "0         15.0           161.0   \n",
       "1         17.0           244.0   \n",
       "2          9.0           138.0   \n",
       "3         16.0           200.0   \n",
       "4         13.0           242.0   \n",
       "\n",
       "                                            abstract  \n",
       "0  Objectives: To assess cohort effects in prescr...  \n",
       "1  Aim: This study aimed to investigate the corre...  \n",
       "2  Obesity has been associated with a multitude o...  \n",
       "3  Recombinant bovine somatotropin (rbST), also k...  \n",
       "4  Biomethanation potential of lignin rich residu...  "
      ]
     },
     "execution_count": 64,
     "metadata": {},
     "output_type": "execute_result"
    }
   ],
   "source": [
    "genuine.head()"
   ]
  },
  {
   "cell_type": "markdown",
   "metadata": {},
   "source": [
    "adding labels"
   ]
  },
  {
   "cell_type": "code",
   "execution_count": 65,
   "metadata": {},
   "outputs": [],
   "source": [
    "genuine['label'] = 0\n",
    "df['label'] = 1"
   ]
  },
  {
   "cell_type": "code",
   "execution_count": 68,
   "metadata": {},
   "outputs": [
    {
     "data": {
      "text/plain": [
       "Index(['Unnamed: 0', 'Subject', 'DOI', 'OriginalPaperPubMedID', 'Reason',\n",
       "       'year', 'citation_count', 'affiliation_country', 'numer_of_authors',\n",
       "       'open_access', 'orcid_availability', 'hospital_affiliation',\n",
       "       'title_count', 'abstract_count', 'abstract', 'label'],\n",
       "      dtype='object')"
      ]
     },
     "execution_count": 68,
     "metadata": {},
     "output_type": "execute_result"
    }
   ],
   "source": [
    "df.columns"
   ]
  },
  {
   "cell_type": "markdown",
   "metadata": {},
   "source": [
    "dropping unecessary columns"
   ]
  },
  {
   "cell_type": "code",
   "execution_count": 71,
   "metadata": {},
   "outputs": [],
   "source": [
    "df = df.drop(['Unnamed: 0', 'Subject', 'OriginalPaperPubMedID', 'Reason', 'year'], axis = 1)"
   ]
  },
  {
   "cell_type": "code",
   "execution_count": 72,
   "metadata": {},
   "outputs": [
    {
     "data": {
      "text/plain": [
       "Index(['DOI', 'citation_count', 'affiliation_country', 'numer_of_authors',\n",
       "       'open_access', 'orcid_availability', 'hospital_affiliation',\n",
       "       'title_count', 'abstract_count', 'abstract', 'label'],\n",
       "      dtype='object')"
      ]
     },
     "execution_count": 72,
     "metadata": {},
     "output_type": "execute_result"
    }
   ],
   "source": [
    "df.columns"
   ]
  },
  {
   "cell_type": "code",
   "execution_count": 69,
   "metadata": {},
   "outputs": [
    {
     "data": {
      "text/plain": [
       "Index(['DOI', 'citation_count', 'affiliation_country', 'numer_of_authors',\n",
       "       'open_access', 'orcid_availability', 'hospital_affiliation',\n",
       "       'title_count', 'abstract_count', 'abstract', 'label'],\n",
       "      dtype='object')"
      ]
     },
     "execution_count": 69,
     "metadata": {},
     "output_type": "execute_result"
    }
   ],
   "source": [
    "genuine.columns"
   ]
  },
  {
   "cell_type": "markdown",
   "metadata": {},
   "source": [
    "combining both dataframes"
   ]
  },
  {
   "cell_type": "code",
   "execution_count": 73,
   "metadata": {},
   "outputs": [],
   "source": [
    "data = pd.concat([df, genuine], ignore_index = True)"
   ]
  },
  {
   "cell_type": "code",
   "execution_count": 74,
   "metadata": {},
   "outputs": [
    {
     "data": {
      "text/html": [
       "<div>\n",
       "<style scoped>\n",
       "    .dataframe tbody tr th:only-of-type {\n",
       "        vertical-align: middle;\n",
       "    }\n",
       "\n",
       "    .dataframe tbody tr th {\n",
       "        vertical-align: top;\n",
       "    }\n",
       "\n",
       "    .dataframe thead th {\n",
       "        text-align: right;\n",
       "    }\n",
       "</style>\n",
       "<table border=\"1\" class=\"dataframe\">\n",
       "  <thead>\n",
       "    <tr style=\"text-align: right;\">\n",
       "      <th></th>\n",
       "      <th>DOI</th>\n",
       "      <th>citation_count</th>\n",
       "      <th>affiliation_country</th>\n",
       "      <th>numer_of_authors</th>\n",
       "      <th>open_access</th>\n",
       "      <th>orcid_availability</th>\n",
       "      <th>hospital_affiliation</th>\n",
       "      <th>title_count</th>\n",
       "      <th>abstract_count</th>\n",
       "      <th>abstract</th>\n",
       "      <th>label</th>\n",
       "    </tr>\n",
       "  </thead>\n",
       "  <tbody>\n",
       "    <tr>\n",
       "      <th>0</th>\n",
       "      <td>10.1186/s11658-018-0107-z</td>\n",
       "      <td>23</td>\n",
       "      <td>China</td>\n",
       "      <td>9.0</td>\n",
       "      <td>True</td>\n",
       "      <td>False</td>\n",
       "      <td>True</td>\n",
       "      <td>15.0</td>\n",
       "      <td>268.0</td>\n",
       "      <td>Background: Inflammation is an important patho...</td>\n",
       "      <td>1</td>\n",
       "    </tr>\n",
       "    <tr>\n",
       "      <th>1</th>\n",
       "      <td>10.1007/s11033-019-05018-9</td>\n",
       "      <td>13</td>\n",
       "      <td>Saudi Arabia</td>\n",
       "      <td>9.0</td>\n",
       "      <td>False</td>\n",
       "      <td>True</td>\n",
       "      <td>True</td>\n",
       "      <td>19.0</td>\n",
       "      <td>229.0</td>\n",
       "      <td>Parkinson’s disease (PD) is a chronic neurodeg...</td>\n",
       "      <td>1</td>\n",
       "    </tr>\n",
       "    <tr>\n",
       "      <th>2</th>\n",
       "      <td>10.1007/s00210-019-01645-y</td>\n",
       "      <td>32</td>\n",
       "      <td>Pakistan</td>\n",
       "      <td>10.0</td>\n",
       "      <td>False</td>\n",
       "      <td>True</td>\n",
       "      <td>False</td>\n",
       "      <td>20.0</td>\n",
       "      <td>248.0</td>\n",
       "      <td>Inflammation is being a protective mechanism o...</td>\n",
       "      <td>1</td>\n",
       "    </tr>\n",
       "    <tr>\n",
       "      <th>3</th>\n",
       "      <td>10.1038/s41419-018-1253-y</td>\n",
       "      <td>43</td>\n",
       "      <td>China</td>\n",
       "      <td>7.0</td>\n",
       "      <td>True</td>\n",
       "      <td>True</td>\n",
       "      <td>True</td>\n",
       "      <td>16.0</td>\n",
       "      <td>182.0</td>\n",
       "      <td>Accumulating evidence indicates that the pluri...</td>\n",
       "      <td>1</td>\n",
       "    </tr>\n",
       "    <tr>\n",
       "      <th>4</th>\n",
       "      <td>10.1007/s11095-022-03297-9</td>\n",
       "      <td>9</td>\n",
       "      <td>Iran</td>\n",
       "      <td>17.0</td>\n",
       "      <td>False</td>\n",
       "      <td>True</td>\n",
       "      <td>True</td>\n",
       "      <td>20.0</td>\n",
       "      <td>234.0</td>\n",
       "      <td>Purpose: Increasing the efficiency of unsucces...</td>\n",
       "      <td>1</td>\n",
       "    </tr>\n",
       "  </tbody>\n",
       "</table>\n",
       "</div>"
      ],
      "text/plain": [
       "                          DOI citation_count affiliation_country  \\\n",
       "0   10.1186/s11658-018-0107-z             23               China   \n",
       "1  10.1007/s11033-019-05018-9             13        Saudi Arabia   \n",
       "2  10.1007/s00210-019-01645-y             32            Pakistan   \n",
       "3   10.1038/s41419-018-1253-y             43               China   \n",
       "4  10.1007/s11095-022-03297-9              9                Iran   \n",
       "\n",
       "   numer_of_authors open_access orcid_availability hospital_affiliation  \\\n",
       "0               9.0        True              False                 True   \n",
       "1               9.0       False               True                 True   \n",
       "2              10.0       False               True                False   \n",
       "3               7.0        True               True                 True   \n",
       "4              17.0       False               True                 True   \n",
       "\n",
       "   title_count  abstract_count  \\\n",
       "0         15.0           268.0   \n",
       "1         19.0           229.0   \n",
       "2         20.0           248.0   \n",
       "3         16.0           182.0   \n",
       "4         20.0           234.0   \n",
       "\n",
       "                                            abstract  label  \n",
       "0  Background: Inflammation is an important patho...      1  \n",
       "1  Parkinson’s disease (PD) is a chronic neurodeg...      1  \n",
       "2  Inflammation is being a protective mechanism o...      1  \n",
       "3  Accumulating evidence indicates that the pluri...      1  \n",
       "4  Purpose: Increasing the efficiency of unsucces...      1  "
      ]
     },
     "execution_count": 74,
     "metadata": {},
     "output_type": "execute_result"
    }
   ],
   "source": [
    "data.head()"
   ]
  },
  {
   "cell_type": "markdown",
   "metadata": {},
   "source": [
    "checking for null values"
   ]
  },
  {
   "cell_type": "code",
   "execution_count": 78,
   "metadata": {},
   "outputs": [
    {
     "data": {
      "text/plain": [
       "DOI                       0\n",
       "citation_count            0\n",
       "affiliation_country     102\n",
       "numer_of_authors        102\n",
       "open_access             102\n",
       "orcid_availability      102\n",
       "hospital_affiliation    102\n",
       "title_count             102\n",
       "abstract_count          102\n",
       "abstract                102\n",
       "label                     0\n",
       "dtype: int64"
      ]
     },
     "execution_count": 78,
     "metadata": {},
     "output_type": "execute_result"
    }
   ],
   "source": [
    "data.isnull().sum()"
   ]
  },
  {
   "cell_type": "markdown",
   "metadata": {},
   "source": [
    "dropping rows with null values"
   ]
  },
  {
   "cell_type": "code",
   "execution_count": 83,
   "metadata": {},
   "outputs": [],
   "source": [
    "data = data.dropna()"
   ]
  },
  {
   "cell_type": "markdown",
   "metadata": {},
   "source": [
    "checking number of retracted and non-retracted papers"
   ]
  },
  {
   "cell_type": "code",
   "execution_count": 84,
   "metadata": {},
   "outputs": [
    {
     "data": {
      "text/plain": [
       "label\n",
       "1    3475\n",
       "0    3372\n",
       "Name: count, dtype: int64"
      ]
     },
     "execution_count": 84,
     "metadata": {},
     "output_type": "execute_result"
    }
   ],
   "source": [
    "data.label.value_counts()"
   ]
  },
  {
   "cell_type": "markdown",
   "metadata": {},
   "source": [
    "removing empty citation rows"
   ]
  },
  {
   "cell_type": "code",
   "execution_count": 93,
   "metadata": {},
   "outputs": [],
   "source": [
    "data = data[data['citation_count'] != '']"
   ]
  },
  {
   "cell_type": "markdown",
   "metadata": {},
   "source": [
    "removing unavailable DOI rows"
   ]
  },
  {
   "cell_type": "code",
   "execution_count": 94,
   "metadata": {},
   "outputs": [],
   "source": [
    "data = data[data['DOI'] != 'Unavailable']"
   ]
  },
  {
   "cell_type": "markdown",
   "metadata": {},
   "source": [
    "removing countries with country not available"
   ]
  },
  {
   "cell_type": "code",
   "execution_count": 101,
   "metadata": {},
   "outputs": [],
   "source": [
    "data = data[data['affiliation_country'] != '']"
   ]
  },
  {
   "cell_type": "markdown",
   "metadata": {},
   "source": [
    "removing rows with empty abstracts"
   ]
  },
  {
   "cell_type": "code",
   "execution_count": 105,
   "metadata": {},
   "outputs": [],
   "source": [
    "data = data[data['abstract'] != '']"
   ]
  },
  {
   "cell_type": "code",
   "execution_count": 106,
   "metadata": {},
   "outputs": [
    {
     "data": {
      "text/plain": [
       "(6349, 11)"
      ]
     },
     "execution_count": 106,
     "metadata": {},
     "output_type": "execute_result"
    }
   ],
   "source": [
    "data.shape"
   ]
  },
  {
   "cell_type": "code",
   "execution_count": 108,
   "metadata": {},
   "outputs": [
    {
     "data": {
      "text/plain": [
       "label\n",
       "0    3241\n",
       "1    3108\n",
       "Name: count, dtype: int64"
      ]
     },
     "execution_count": 108,
     "metadata": {},
     "output_type": "execute_result"
    }
   ],
   "source": [
    "data.label.value_counts()"
   ]
  },
  {
   "cell_type": "code",
   "execution_count": 109,
   "metadata": {},
   "outputs": [
    {
     "data": {
      "text/html": [
       "<div>\n",
       "<style scoped>\n",
       "    .dataframe tbody tr th:only-of-type {\n",
       "        vertical-align: middle;\n",
       "    }\n",
       "\n",
       "    .dataframe tbody tr th {\n",
       "        vertical-align: top;\n",
       "    }\n",
       "\n",
       "    .dataframe thead th {\n",
       "        text-align: right;\n",
       "    }\n",
       "</style>\n",
       "<table border=\"1\" class=\"dataframe\">\n",
       "  <thead>\n",
       "    <tr style=\"text-align: right;\">\n",
       "      <th></th>\n",
       "      <th>DOI</th>\n",
       "      <th>citation_count</th>\n",
       "      <th>affiliation_country</th>\n",
       "      <th>numer_of_authors</th>\n",
       "      <th>open_access</th>\n",
       "      <th>orcid_availability</th>\n",
       "      <th>hospital_affiliation</th>\n",
       "      <th>title_count</th>\n",
       "      <th>abstract_count</th>\n",
       "      <th>abstract</th>\n",
       "      <th>label</th>\n",
       "    </tr>\n",
       "  </thead>\n",
       "  <tbody>\n",
       "    <tr>\n",
       "      <th>0</th>\n",
       "      <td>10.1186/s11658-018-0107-z</td>\n",
       "      <td>23</td>\n",
       "      <td>China</td>\n",
       "      <td>9.0</td>\n",
       "      <td>True</td>\n",
       "      <td>False</td>\n",
       "      <td>True</td>\n",
       "      <td>15.0</td>\n",
       "      <td>268.0</td>\n",
       "      <td>Background: Inflammation is an important patho...</td>\n",
       "      <td>1</td>\n",
       "    </tr>\n",
       "    <tr>\n",
       "      <th>1</th>\n",
       "      <td>10.1007/s11033-019-05018-9</td>\n",
       "      <td>13</td>\n",
       "      <td>Saudi Arabia</td>\n",
       "      <td>9.0</td>\n",
       "      <td>False</td>\n",
       "      <td>True</td>\n",
       "      <td>True</td>\n",
       "      <td>19.0</td>\n",
       "      <td>229.0</td>\n",
       "      <td>Parkinson’s disease (PD) is a chronic neurodeg...</td>\n",
       "      <td>1</td>\n",
       "    </tr>\n",
       "    <tr>\n",
       "      <th>2</th>\n",
       "      <td>10.1007/s00210-019-01645-y</td>\n",
       "      <td>32</td>\n",
       "      <td>Pakistan</td>\n",
       "      <td>10.0</td>\n",
       "      <td>False</td>\n",
       "      <td>True</td>\n",
       "      <td>False</td>\n",
       "      <td>20.0</td>\n",
       "      <td>248.0</td>\n",
       "      <td>Inflammation is being a protective mechanism o...</td>\n",
       "      <td>1</td>\n",
       "    </tr>\n",
       "    <tr>\n",
       "      <th>3</th>\n",
       "      <td>10.1038/s41419-018-1253-y</td>\n",
       "      <td>43</td>\n",
       "      <td>China</td>\n",
       "      <td>7.0</td>\n",
       "      <td>True</td>\n",
       "      <td>True</td>\n",
       "      <td>True</td>\n",
       "      <td>16.0</td>\n",
       "      <td>182.0</td>\n",
       "      <td>Accumulating evidence indicates that the pluri...</td>\n",
       "      <td>1</td>\n",
       "    </tr>\n",
       "    <tr>\n",
       "      <th>4</th>\n",
       "      <td>10.1007/s11095-022-03297-9</td>\n",
       "      <td>9</td>\n",
       "      <td>Iran</td>\n",
       "      <td>17.0</td>\n",
       "      <td>False</td>\n",
       "      <td>True</td>\n",
       "      <td>True</td>\n",
       "      <td>20.0</td>\n",
       "      <td>234.0</td>\n",
       "      <td>Purpose: Increasing the efficiency of unsucces...</td>\n",
       "      <td>1</td>\n",
       "    </tr>\n",
       "  </tbody>\n",
       "</table>\n",
       "</div>"
      ],
      "text/plain": [
       "                          DOI citation_count affiliation_country  \\\n",
       "0   10.1186/s11658-018-0107-z             23               China   \n",
       "1  10.1007/s11033-019-05018-9             13        Saudi Arabia   \n",
       "2  10.1007/s00210-019-01645-y             32            Pakistan   \n",
       "3   10.1038/s41419-018-1253-y             43               China   \n",
       "4  10.1007/s11095-022-03297-9              9                Iran   \n",
       "\n",
       "   numer_of_authors open_access orcid_availability hospital_affiliation  \\\n",
       "0               9.0        True              False                 True   \n",
       "1               9.0       False               True                 True   \n",
       "2              10.0       False               True                False   \n",
       "3               7.0        True               True                 True   \n",
       "4              17.0       False               True                 True   \n",
       "\n",
       "   title_count  abstract_count  \\\n",
       "0         15.0           268.0   \n",
       "1         19.0           229.0   \n",
       "2         20.0           248.0   \n",
       "3         16.0           182.0   \n",
       "4         20.0           234.0   \n",
       "\n",
       "                                            abstract  label  \n",
       "0  Background: Inflammation is an important patho...      1  \n",
       "1  Parkinson’s disease (PD) is a chronic neurodeg...      1  \n",
       "2  Inflammation is being a protective mechanism o...      1  \n",
       "3  Accumulating evidence indicates that the pluri...      1  \n",
       "4  Purpose: Increasing the efficiency of unsucces...      1  "
      ]
     },
     "execution_count": 109,
     "metadata": {},
     "output_type": "execute_result"
    }
   ],
   "source": [
    "data.head()"
   ]
  },
  {
   "cell_type": "markdown",
   "metadata": {},
   "source": [
    "one hot encode affiliation_country column"
   ]
  },
  {
   "cell_type": "code",
   "execution_count": 110,
   "metadata": {},
   "outputs": [],
   "source": [
    "data = pd.get_dummies(data, columns = ['affiliation_country'])"
   ]
  },
  {
   "cell_type": "code",
   "execution_count": 111,
   "metadata": {},
   "outputs": [
    {
     "data": {
      "text/html": [
       "<div>\n",
       "<style scoped>\n",
       "    .dataframe tbody tr th:only-of-type {\n",
       "        vertical-align: middle;\n",
       "    }\n",
       "\n",
       "    .dataframe tbody tr th {\n",
       "        vertical-align: top;\n",
       "    }\n",
       "\n",
       "    .dataframe thead th {\n",
       "        text-align: right;\n",
       "    }\n",
       "</style>\n",
       "<table border=\"1\" class=\"dataframe\">\n",
       "  <thead>\n",
       "    <tr style=\"text-align: right;\">\n",
       "      <th></th>\n",
       "      <th>DOI</th>\n",
       "      <th>citation_count</th>\n",
       "      <th>numer_of_authors</th>\n",
       "      <th>open_access</th>\n",
       "      <th>orcid_availability</th>\n",
       "      <th>hospital_affiliation</th>\n",
       "      <th>title_count</th>\n",
       "      <th>abstract_count</th>\n",
       "      <th>abstract</th>\n",
       "      <th>label</th>\n",
       "      <th>...</th>\n",
       "      <th>affiliation_country_Trinidad and Tobago</th>\n",
       "      <th>affiliation_country_Tunisia</th>\n",
       "      <th>affiliation_country_Turkey</th>\n",
       "      <th>affiliation_country_Uganda</th>\n",
       "      <th>affiliation_country_Ukraine</th>\n",
       "      <th>affiliation_country_United Kingdom</th>\n",
       "      <th>affiliation_country_United States</th>\n",
       "      <th>affiliation_country_Uruguay</th>\n",
       "      <th>affiliation_country_Viet Nam</th>\n",
       "      <th>affiliation_country_Yemen</th>\n",
       "    </tr>\n",
       "  </thead>\n",
       "  <tbody>\n",
       "    <tr>\n",
       "      <th>0</th>\n",
       "      <td>10.1186/s11658-018-0107-z</td>\n",
       "      <td>23</td>\n",
       "      <td>9.0</td>\n",
       "      <td>True</td>\n",
       "      <td>False</td>\n",
       "      <td>True</td>\n",
       "      <td>15.0</td>\n",
       "      <td>268.0</td>\n",
       "      <td>Background: Inflammation is an important patho...</td>\n",
       "      <td>1</td>\n",
       "      <td>...</td>\n",
       "      <td>False</td>\n",
       "      <td>False</td>\n",
       "      <td>False</td>\n",
       "      <td>False</td>\n",
       "      <td>False</td>\n",
       "      <td>False</td>\n",
       "      <td>False</td>\n",
       "      <td>False</td>\n",
       "      <td>False</td>\n",
       "      <td>False</td>\n",
       "    </tr>\n",
       "    <tr>\n",
       "      <th>1</th>\n",
       "      <td>10.1007/s11033-019-05018-9</td>\n",
       "      <td>13</td>\n",
       "      <td>9.0</td>\n",
       "      <td>False</td>\n",
       "      <td>True</td>\n",
       "      <td>True</td>\n",
       "      <td>19.0</td>\n",
       "      <td>229.0</td>\n",
       "      <td>Parkinson’s disease (PD) is a chronic neurodeg...</td>\n",
       "      <td>1</td>\n",
       "      <td>...</td>\n",
       "      <td>False</td>\n",
       "      <td>False</td>\n",
       "      <td>False</td>\n",
       "      <td>False</td>\n",
       "      <td>False</td>\n",
       "      <td>False</td>\n",
       "      <td>False</td>\n",
       "      <td>False</td>\n",
       "      <td>False</td>\n",
       "      <td>False</td>\n",
       "    </tr>\n",
       "    <tr>\n",
       "      <th>2</th>\n",
       "      <td>10.1007/s00210-019-01645-y</td>\n",
       "      <td>32</td>\n",
       "      <td>10.0</td>\n",
       "      <td>False</td>\n",
       "      <td>True</td>\n",
       "      <td>False</td>\n",
       "      <td>20.0</td>\n",
       "      <td>248.0</td>\n",
       "      <td>Inflammation is being a protective mechanism o...</td>\n",
       "      <td>1</td>\n",
       "      <td>...</td>\n",
       "      <td>False</td>\n",
       "      <td>False</td>\n",
       "      <td>False</td>\n",
       "      <td>False</td>\n",
       "      <td>False</td>\n",
       "      <td>False</td>\n",
       "      <td>False</td>\n",
       "      <td>False</td>\n",
       "      <td>False</td>\n",
       "      <td>False</td>\n",
       "    </tr>\n",
       "    <tr>\n",
       "      <th>3</th>\n",
       "      <td>10.1038/s41419-018-1253-y</td>\n",
       "      <td>43</td>\n",
       "      <td>7.0</td>\n",
       "      <td>True</td>\n",
       "      <td>True</td>\n",
       "      <td>True</td>\n",
       "      <td>16.0</td>\n",
       "      <td>182.0</td>\n",
       "      <td>Accumulating evidence indicates that the pluri...</td>\n",
       "      <td>1</td>\n",
       "      <td>...</td>\n",
       "      <td>False</td>\n",
       "      <td>False</td>\n",
       "      <td>False</td>\n",
       "      <td>False</td>\n",
       "      <td>False</td>\n",
       "      <td>False</td>\n",
       "      <td>False</td>\n",
       "      <td>False</td>\n",
       "      <td>False</td>\n",
       "      <td>False</td>\n",
       "    </tr>\n",
       "    <tr>\n",
       "      <th>4</th>\n",
       "      <td>10.1007/s11095-022-03297-9</td>\n",
       "      <td>9</td>\n",
       "      <td>17.0</td>\n",
       "      <td>False</td>\n",
       "      <td>True</td>\n",
       "      <td>True</td>\n",
       "      <td>20.0</td>\n",
       "      <td>234.0</td>\n",
       "      <td>Purpose: Increasing the efficiency of unsucces...</td>\n",
       "      <td>1</td>\n",
       "      <td>...</td>\n",
       "      <td>False</td>\n",
       "      <td>False</td>\n",
       "      <td>False</td>\n",
       "      <td>False</td>\n",
       "      <td>False</td>\n",
       "      <td>False</td>\n",
       "      <td>False</td>\n",
       "      <td>False</td>\n",
       "      <td>False</td>\n",
       "      <td>False</td>\n",
       "    </tr>\n",
       "  </tbody>\n",
       "</table>\n",
       "<p>5 rows × 112 columns</p>\n",
       "</div>"
      ],
      "text/plain": [
       "                          DOI citation_count  numer_of_authors open_access  \\\n",
       "0   10.1186/s11658-018-0107-z             23               9.0        True   \n",
       "1  10.1007/s11033-019-05018-9             13               9.0       False   \n",
       "2  10.1007/s00210-019-01645-y             32              10.0       False   \n",
       "3   10.1038/s41419-018-1253-y             43               7.0        True   \n",
       "4  10.1007/s11095-022-03297-9              9              17.0       False   \n",
       "\n",
       "  orcid_availability hospital_affiliation  title_count  abstract_count  \\\n",
       "0              False                 True         15.0           268.0   \n",
       "1               True                 True         19.0           229.0   \n",
       "2               True                False         20.0           248.0   \n",
       "3               True                 True         16.0           182.0   \n",
       "4               True                 True         20.0           234.0   \n",
       "\n",
       "                                            abstract  label  ...  \\\n",
       "0  Background: Inflammation is an important patho...      1  ...   \n",
       "1  Parkinson’s disease (PD) is a chronic neurodeg...      1  ...   \n",
       "2  Inflammation is being a protective mechanism o...      1  ...   \n",
       "3  Accumulating evidence indicates that the pluri...      1  ...   \n",
       "4  Purpose: Increasing the efficiency of unsucces...      1  ...   \n",
       "\n",
       "   affiliation_country_Trinidad and Tobago  affiliation_country_Tunisia  \\\n",
       "0                                    False                        False   \n",
       "1                                    False                        False   \n",
       "2                                    False                        False   \n",
       "3                                    False                        False   \n",
       "4                                    False                        False   \n",
       "\n",
       "   affiliation_country_Turkey  affiliation_country_Uganda  \\\n",
       "0                       False                       False   \n",
       "1                       False                       False   \n",
       "2                       False                       False   \n",
       "3                       False                       False   \n",
       "4                       False                       False   \n",
       "\n",
       "   affiliation_country_Ukraine  affiliation_country_United Kingdom  \\\n",
       "0                        False                               False   \n",
       "1                        False                               False   \n",
       "2                        False                               False   \n",
       "3                        False                               False   \n",
       "4                        False                               False   \n",
       "\n",
       "   affiliation_country_United States  affiliation_country_Uruguay  \\\n",
       "0                              False                        False   \n",
       "1                              False                        False   \n",
       "2                              False                        False   \n",
       "3                              False                        False   \n",
       "4                              False                        False   \n",
       "\n",
       "   affiliation_country_Viet Nam  affiliation_country_Yemen  \n",
       "0                         False                      False  \n",
       "1                         False                      False  \n",
       "2                         False                      False  \n",
       "3                         False                      False  \n",
       "4                         False                      False  \n",
       "\n",
       "[5 rows x 112 columns]"
      ]
     },
     "execution_count": 111,
     "metadata": {},
     "output_type": "execute_result"
    }
   ],
   "source": [
    "data.head()"
   ]
  },
  {
   "cell_type": "markdown",
   "metadata": {},
   "source": [
    "drop affiliation_country column"
   ]
  },
  {
   "cell_type": "code",
   "execution_count": null,
   "metadata": {},
   "outputs": [],
   "source": [
    "data = data.drop('affiliation_country', axis = 1)"
   ]
  },
  {
   "cell_type": "code",
   "execution_count": 117,
   "metadata": {},
   "outputs": [
    {
     "data": {
      "text/html": [
       "<div>\n",
       "<style scoped>\n",
       "    .dataframe tbody tr th:only-of-type {\n",
       "        vertical-align: middle;\n",
       "    }\n",
       "\n",
       "    .dataframe tbody tr th {\n",
       "        vertical-align: top;\n",
       "    }\n",
       "\n",
       "    .dataframe thead th {\n",
       "        text-align: right;\n",
       "    }\n",
       "</style>\n",
       "<table border=\"1\" class=\"dataframe\">\n",
       "  <thead>\n",
       "    <tr style=\"text-align: right;\">\n",
       "      <th></th>\n",
       "      <th>DOI</th>\n",
       "      <th>citation_count</th>\n",
       "      <th>numer_of_authors</th>\n",
       "      <th>open_access</th>\n",
       "      <th>orcid_availability</th>\n",
       "      <th>hospital_affiliation</th>\n",
       "      <th>title_count</th>\n",
       "      <th>abstract_count</th>\n",
       "      <th>abstract</th>\n",
       "      <th>label</th>\n",
       "      <th>...</th>\n",
       "      <th>affiliation_country_Trinidad and Tobago</th>\n",
       "      <th>affiliation_country_Tunisia</th>\n",
       "      <th>affiliation_country_Turkey</th>\n",
       "      <th>affiliation_country_Uganda</th>\n",
       "      <th>affiliation_country_Ukraine</th>\n",
       "      <th>affiliation_country_United Kingdom</th>\n",
       "      <th>affiliation_country_United States</th>\n",
       "      <th>affiliation_country_Uruguay</th>\n",
       "      <th>affiliation_country_Viet Nam</th>\n",
       "      <th>affiliation_country_Yemen</th>\n",
       "    </tr>\n",
       "  </thead>\n",
       "  <tbody>\n",
       "    <tr>\n",
       "      <th>0</th>\n",
       "      <td>10.1186/s11658-018-0107-z</td>\n",
       "      <td>23</td>\n",
       "      <td>9.0</td>\n",
       "      <td>True</td>\n",
       "      <td>False</td>\n",
       "      <td>True</td>\n",
       "      <td>15.0</td>\n",
       "      <td>268.0</td>\n",
       "      <td>Background: Inflammation is an important patho...</td>\n",
       "      <td>1</td>\n",
       "      <td>...</td>\n",
       "      <td>False</td>\n",
       "      <td>False</td>\n",
       "      <td>False</td>\n",
       "      <td>False</td>\n",
       "      <td>False</td>\n",
       "      <td>False</td>\n",
       "      <td>False</td>\n",
       "      <td>False</td>\n",
       "      <td>False</td>\n",
       "      <td>False</td>\n",
       "    </tr>\n",
       "    <tr>\n",
       "      <th>1</th>\n",
       "      <td>10.1007/s11033-019-05018-9</td>\n",
       "      <td>13</td>\n",
       "      <td>9.0</td>\n",
       "      <td>False</td>\n",
       "      <td>True</td>\n",
       "      <td>True</td>\n",
       "      <td>19.0</td>\n",
       "      <td>229.0</td>\n",
       "      <td>Parkinson’s disease (PD) is a chronic neurodeg...</td>\n",
       "      <td>1</td>\n",
       "      <td>...</td>\n",
       "      <td>False</td>\n",
       "      <td>False</td>\n",
       "      <td>False</td>\n",
       "      <td>False</td>\n",
       "      <td>False</td>\n",
       "      <td>False</td>\n",
       "      <td>False</td>\n",
       "      <td>False</td>\n",
       "      <td>False</td>\n",
       "      <td>False</td>\n",
       "    </tr>\n",
       "    <tr>\n",
       "      <th>2</th>\n",
       "      <td>10.1007/s00210-019-01645-y</td>\n",
       "      <td>32</td>\n",
       "      <td>10.0</td>\n",
       "      <td>False</td>\n",
       "      <td>True</td>\n",
       "      <td>False</td>\n",
       "      <td>20.0</td>\n",
       "      <td>248.0</td>\n",
       "      <td>Inflammation is being a protective mechanism o...</td>\n",
       "      <td>1</td>\n",
       "      <td>...</td>\n",
       "      <td>False</td>\n",
       "      <td>False</td>\n",
       "      <td>False</td>\n",
       "      <td>False</td>\n",
       "      <td>False</td>\n",
       "      <td>False</td>\n",
       "      <td>False</td>\n",
       "      <td>False</td>\n",
       "      <td>False</td>\n",
       "      <td>False</td>\n",
       "    </tr>\n",
       "    <tr>\n",
       "      <th>3</th>\n",
       "      <td>10.1038/s41419-018-1253-y</td>\n",
       "      <td>43</td>\n",
       "      <td>7.0</td>\n",
       "      <td>True</td>\n",
       "      <td>True</td>\n",
       "      <td>True</td>\n",
       "      <td>16.0</td>\n",
       "      <td>182.0</td>\n",
       "      <td>Accumulating evidence indicates that the pluri...</td>\n",
       "      <td>1</td>\n",
       "      <td>...</td>\n",
       "      <td>False</td>\n",
       "      <td>False</td>\n",
       "      <td>False</td>\n",
       "      <td>False</td>\n",
       "      <td>False</td>\n",
       "      <td>False</td>\n",
       "      <td>False</td>\n",
       "      <td>False</td>\n",
       "      <td>False</td>\n",
       "      <td>False</td>\n",
       "    </tr>\n",
       "    <tr>\n",
       "      <th>4</th>\n",
       "      <td>10.1007/s11095-022-03297-9</td>\n",
       "      <td>9</td>\n",
       "      <td>17.0</td>\n",
       "      <td>False</td>\n",
       "      <td>True</td>\n",
       "      <td>True</td>\n",
       "      <td>20.0</td>\n",
       "      <td>234.0</td>\n",
       "      <td>Purpose: Increasing the efficiency of unsucces...</td>\n",
       "      <td>1</td>\n",
       "      <td>...</td>\n",
       "      <td>False</td>\n",
       "      <td>False</td>\n",
       "      <td>False</td>\n",
       "      <td>False</td>\n",
       "      <td>False</td>\n",
       "      <td>False</td>\n",
       "      <td>False</td>\n",
       "      <td>False</td>\n",
       "      <td>False</td>\n",
       "      <td>False</td>\n",
       "    </tr>\n",
       "  </tbody>\n",
       "</table>\n",
       "<p>5 rows × 112 columns</p>\n",
       "</div>"
      ],
      "text/plain": [
       "                          DOI citation_count  numer_of_authors open_access  \\\n",
       "0   10.1186/s11658-018-0107-z             23               9.0        True   \n",
       "1  10.1007/s11033-019-05018-9             13               9.0       False   \n",
       "2  10.1007/s00210-019-01645-y             32              10.0       False   \n",
       "3   10.1038/s41419-018-1253-y             43               7.0        True   \n",
       "4  10.1007/s11095-022-03297-9              9              17.0       False   \n",
       "\n",
       "  orcid_availability hospital_affiliation  title_count  abstract_count  \\\n",
       "0              False                 True         15.0           268.0   \n",
       "1               True                 True         19.0           229.0   \n",
       "2               True                False         20.0           248.0   \n",
       "3               True                 True         16.0           182.0   \n",
       "4               True                 True         20.0           234.0   \n",
       "\n",
       "                                            abstract  label  ...  \\\n",
       "0  Background: Inflammation is an important patho...      1  ...   \n",
       "1  Parkinson’s disease (PD) is a chronic neurodeg...      1  ...   \n",
       "2  Inflammation is being a protective mechanism o...      1  ...   \n",
       "3  Accumulating evidence indicates that the pluri...      1  ...   \n",
       "4  Purpose: Increasing the efficiency of unsucces...      1  ...   \n",
       "\n",
       "   affiliation_country_Trinidad and Tobago  affiliation_country_Tunisia  \\\n",
       "0                                    False                        False   \n",
       "1                                    False                        False   \n",
       "2                                    False                        False   \n",
       "3                                    False                        False   \n",
       "4                                    False                        False   \n",
       "\n",
       "   affiliation_country_Turkey  affiliation_country_Uganda  \\\n",
       "0                       False                       False   \n",
       "1                       False                       False   \n",
       "2                       False                       False   \n",
       "3                       False                       False   \n",
       "4                       False                       False   \n",
       "\n",
       "   affiliation_country_Ukraine  affiliation_country_United Kingdom  \\\n",
       "0                        False                               False   \n",
       "1                        False                               False   \n",
       "2                        False                               False   \n",
       "3                        False                               False   \n",
       "4                        False                               False   \n",
       "\n",
       "   affiliation_country_United States  affiliation_country_Uruguay  \\\n",
       "0                              False                        False   \n",
       "1                              False                        False   \n",
       "2                              False                        False   \n",
       "3                              False                        False   \n",
       "4                              False                        False   \n",
       "\n",
       "   affiliation_country_Viet Nam  affiliation_country_Yemen  \n",
       "0                         False                      False  \n",
       "1                         False                      False  \n",
       "2                         False                      False  \n",
       "3                         False                      False  \n",
       "4                         False                      False  \n",
       "\n",
       "[5 rows x 112 columns]"
      ]
     },
     "execution_count": 117,
     "metadata": {},
     "output_type": "execute_result"
    }
   ],
   "source": [
    "data.head()"
   ]
  },
  {
   "cell_type": "markdown",
   "metadata": {},
   "source": [
    "converting one hot encoded columns to integers"
   ]
  },
  {
   "cell_type": "code",
   "execution_count": 118,
   "metadata": {},
   "outputs": [],
   "source": [
    "one_hot_encoded_country_columns = [col for col in data.columns if 'affiliation_' in col]\n",
    "\n",
    "data[one_hot_encoded_country_columns] = data[one_hot_encoded_country_columns].astype(int)"
   ]
  },
  {
   "cell_type": "code",
   "execution_count": 119,
   "metadata": {},
   "outputs": [
    {
     "data": {
      "text/html": [
       "<div>\n",
       "<style scoped>\n",
       "    .dataframe tbody tr th:only-of-type {\n",
       "        vertical-align: middle;\n",
       "    }\n",
       "\n",
       "    .dataframe tbody tr th {\n",
       "        vertical-align: top;\n",
       "    }\n",
       "\n",
       "    .dataframe thead th {\n",
       "        text-align: right;\n",
       "    }\n",
       "</style>\n",
       "<table border=\"1\" class=\"dataframe\">\n",
       "  <thead>\n",
       "    <tr style=\"text-align: right;\">\n",
       "      <th></th>\n",
       "      <th>DOI</th>\n",
       "      <th>citation_count</th>\n",
       "      <th>numer_of_authors</th>\n",
       "      <th>open_access</th>\n",
       "      <th>orcid_availability</th>\n",
       "      <th>hospital_affiliation</th>\n",
       "      <th>title_count</th>\n",
       "      <th>abstract_count</th>\n",
       "      <th>abstract</th>\n",
       "      <th>label</th>\n",
       "      <th>...</th>\n",
       "      <th>affiliation_country_Trinidad and Tobago</th>\n",
       "      <th>affiliation_country_Tunisia</th>\n",
       "      <th>affiliation_country_Turkey</th>\n",
       "      <th>affiliation_country_Uganda</th>\n",
       "      <th>affiliation_country_Ukraine</th>\n",
       "      <th>affiliation_country_United Kingdom</th>\n",
       "      <th>affiliation_country_United States</th>\n",
       "      <th>affiliation_country_Uruguay</th>\n",
       "      <th>affiliation_country_Viet Nam</th>\n",
       "      <th>affiliation_country_Yemen</th>\n",
       "    </tr>\n",
       "  </thead>\n",
       "  <tbody>\n",
       "    <tr>\n",
       "      <th>0</th>\n",
       "      <td>10.1186/s11658-018-0107-z</td>\n",
       "      <td>23</td>\n",
       "      <td>9.0</td>\n",
       "      <td>True</td>\n",
       "      <td>False</td>\n",
       "      <td>True</td>\n",
       "      <td>15.0</td>\n",
       "      <td>268.0</td>\n",
       "      <td>Background: Inflammation is an important patho...</td>\n",
       "      <td>1</td>\n",
       "      <td>...</td>\n",
       "      <td>0</td>\n",
       "      <td>0</td>\n",
       "      <td>0</td>\n",
       "      <td>0</td>\n",
       "      <td>0</td>\n",
       "      <td>0</td>\n",
       "      <td>0</td>\n",
       "      <td>0</td>\n",
       "      <td>0</td>\n",
       "      <td>0</td>\n",
       "    </tr>\n",
       "    <tr>\n",
       "      <th>1</th>\n",
       "      <td>10.1007/s11033-019-05018-9</td>\n",
       "      <td>13</td>\n",
       "      <td>9.0</td>\n",
       "      <td>False</td>\n",
       "      <td>True</td>\n",
       "      <td>True</td>\n",
       "      <td>19.0</td>\n",
       "      <td>229.0</td>\n",
       "      <td>Parkinson’s disease (PD) is a chronic neurodeg...</td>\n",
       "      <td>1</td>\n",
       "      <td>...</td>\n",
       "      <td>0</td>\n",
       "      <td>0</td>\n",
       "      <td>0</td>\n",
       "      <td>0</td>\n",
       "      <td>0</td>\n",
       "      <td>0</td>\n",
       "      <td>0</td>\n",
       "      <td>0</td>\n",
       "      <td>0</td>\n",
       "      <td>0</td>\n",
       "    </tr>\n",
       "    <tr>\n",
       "      <th>2</th>\n",
       "      <td>10.1007/s00210-019-01645-y</td>\n",
       "      <td>32</td>\n",
       "      <td>10.0</td>\n",
       "      <td>False</td>\n",
       "      <td>True</td>\n",
       "      <td>False</td>\n",
       "      <td>20.0</td>\n",
       "      <td>248.0</td>\n",
       "      <td>Inflammation is being a protective mechanism o...</td>\n",
       "      <td>1</td>\n",
       "      <td>...</td>\n",
       "      <td>0</td>\n",
       "      <td>0</td>\n",
       "      <td>0</td>\n",
       "      <td>0</td>\n",
       "      <td>0</td>\n",
       "      <td>0</td>\n",
       "      <td>0</td>\n",
       "      <td>0</td>\n",
       "      <td>0</td>\n",
       "      <td>0</td>\n",
       "    </tr>\n",
       "    <tr>\n",
       "      <th>3</th>\n",
       "      <td>10.1038/s41419-018-1253-y</td>\n",
       "      <td>43</td>\n",
       "      <td>7.0</td>\n",
       "      <td>True</td>\n",
       "      <td>True</td>\n",
       "      <td>True</td>\n",
       "      <td>16.0</td>\n",
       "      <td>182.0</td>\n",
       "      <td>Accumulating evidence indicates that the pluri...</td>\n",
       "      <td>1</td>\n",
       "      <td>...</td>\n",
       "      <td>0</td>\n",
       "      <td>0</td>\n",
       "      <td>0</td>\n",
       "      <td>0</td>\n",
       "      <td>0</td>\n",
       "      <td>0</td>\n",
       "      <td>0</td>\n",
       "      <td>0</td>\n",
       "      <td>0</td>\n",
       "      <td>0</td>\n",
       "    </tr>\n",
       "    <tr>\n",
       "      <th>4</th>\n",
       "      <td>10.1007/s11095-022-03297-9</td>\n",
       "      <td>9</td>\n",
       "      <td>17.0</td>\n",
       "      <td>False</td>\n",
       "      <td>True</td>\n",
       "      <td>True</td>\n",
       "      <td>20.0</td>\n",
       "      <td>234.0</td>\n",
       "      <td>Purpose: Increasing the efficiency of unsucces...</td>\n",
       "      <td>1</td>\n",
       "      <td>...</td>\n",
       "      <td>0</td>\n",
       "      <td>0</td>\n",
       "      <td>0</td>\n",
       "      <td>0</td>\n",
       "      <td>0</td>\n",
       "      <td>0</td>\n",
       "      <td>0</td>\n",
       "      <td>0</td>\n",
       "      <td>0</td>\n",
       "      <td>0</td>\n",
       "    </tr>\n",
       "  </tbody>\n",
       "</table>\n",
       "<p>5 rows × 112 columns</p>\n",
       "</div>"
      ],
      "text/plain": [
       "                          DOI citation_count  numer_of_authors open_access  \\\n",
       "0   10.1186/s11658-018-0107-z             23               9.0        True   \n",
       "1  10.1007/s11033-019-05018-9             13               9.0       False   \n",
       "2  10.1007/s00210-019-01645-y             32              10.0       False   \n",
       "3   10.1038/s41419-018-1253-y             43               7.0        True   \n",
       "4  10.1007/s11095-022-03297-9              9              17.0       False   \n",
       "\n",
       "  orcid_availability hospital_affiliation  title_count  abstract_count  \\\n",
       "0              False                 True         15.0           268.0   \n",
       "1               True                 True         19.0           229.0   \n",
       "2               True                False         20.0           248.0   \n",
       "3               True                 True         16.0           182.0   \n",
       "4               True                 True         20.0           234.0   \n",
       "\n",
       "                                            abstract  label  ...  \\\n",
       "0  Background: Inflammation is an important patho...      1  ...   \n",
       "1  Parkinson’s disease (PD) is a chronic neurodeg...      1  ...   \n",
       "2  Inflammation is being a protective mechanism o...      1  ...   \n",
       "3  Accumulating evidence indicates that the pluri...      1  ...   \n",
       "4  Purpose: Increasing the efficiency of unsucces...      1  ...   \n",
       "\n",
       "   affiliation_country_Trinidad and Tobago  affiliation_country_Tunisia  \\\n",
       "0                                        0                            0   \n",
       "1                                        0                            0   \n",
       "2                                        0                            0   \n",
       "3                                        0                            0   \n",
       "4                                        0                            0   \n",
       "\n",
       "   affiliation_country_Turkey  affiliation_country_Uganda  \\\n",
       "0                           0                           0   \n",
       "1                           0                           0   \n",
       "2                           0                           0   \n",
       "3                           0                           0   \n",
       "4                           0                           0   \n",
       "\n",
       "   affiliation_country_Ukraine  affiliation_country_United Kingdom  \\\n",
       "0                            0                                   0   \n",
       "1                            0                                   0   \n",
       "2                            0                                   0   \n",
       "3                            0                                   0   \n",
       "4                            0                                   0   \n",
       "\n",
       "   affiliation_country_United States  affiliation_country_Uruguay  \\\n",
       "0                                  0                            0   \n",
       "1                                  0                            0   \n",
       "2                                  0                            0   \n",
       "3                                  0                            0   \n",
       "4                                  0                            0   \n",
       "\n",
       "   affiliation_country_Viet Nam  affiliation_country_Yemen  \n",
       "0                             0                          0  \n",
       "1                             0                          0  \n",
       "2                             0                          0  \n",
       "3                             0                          0  \n",
       "4                             0                          0  \n",
       "\n",
       "[5 rows x 112 columns]"
      ]
     },
     "execution_count": 119,
     "metadata": {},
     "output_type": "execute_result"
    }
   ],
   "source": [
    "data.head()"
   ]
  },
  {
   "cell_type": "markdown",
   "metadata": {},
   "source": [
    "converting rest of the boolean columns to integer values"
   ]
  },
  {
   "cell_type": "code",
   "execution_count": 121,
   "metadata": {},
   "outputs": [],
   "source": [
    "data['open_access'] = data['open_access'].astype(int)\n",
    "data['orcid_availability'] = data['orcid_availability'].astype(int)\n",
    "data['hospital_affiliation'] = data['hospital_affiliation'].astype(int)"
   ]
  },
  {
   "cell_type": "markdown",
   "metadata": {},
   "source": [
    "converting rest of the float columns to integer values"
   ]
  },
  {
   "cell_type": "code",
   "execution_count": 123,
   "metadata": {},
   "outputs": [],
   "source": [
    "data['numer_of_authors'] = data['numer_of_authors'].astype(int)\n",
    "data['title_count'] = data['title_count'].astype(int)\n",
    "data['abstract_count'] = data['abstract_count'].astype(int)"
   ]
  },
  {
   "cell_type": "code",
   "execution_count": 124,
   "metadata": {},
   "outputs": [
    {
     "data": {
      "text/html": [
       "<div>\n",
       "<style scoped>\n",
       "    .dataframe tbody tr th:only-of-type {\n",
       "        vertical-align: middle;\n",
       "    }\n",
       "\n",
       "    .dataframe tbody tr th {\n",
       "        vertical-align: top;\n",
       "    }\n",
       "\n",
       "    .dataframe thead th {\n",
       "        text-align: right;\n",
       "    }\n",
       "</style>\n",
       "<table border=\"1\" class=\"dataframe\">\n",
       "  <thead>\n",
       "    <tr style=\"text-align: right;\">\n",
       "      <th></th>\n",
       "      <th>DOI</th>\n",
       "      <th>citation_count</th>\n",
       "      <th>numer_of_authors</th>\n",
       "      <th>open_access</th>\n",
       "      <th>orcid_availability</th>\n",
       "      <th>hospital_affiliation</th>\n",
       "      <th>title_count</th>\n",
       "      <th>abstract_count</th>\n",
       "      <th>abstract</th>\n",
       "      <th>label</th>\n",
       "      <th>...</th>\n",
       "      <th>affiliation_country_Trinidad and Tobago</th>\n",
       "      <th>affiliation_country_Tunisia</th>\n",
       "      <th>affiliation_country_Turkey</th>\n",
       "      <th>affiliation_country_Uganda</th>\n",
       "      <th>affiliation_country_Ukraine</th>\n",
       "      <th>affiliation_country_United Kingdom</th>\n",
       "      <th>affiliation_country_United States</th>\n",
       "      <th>affiliation_country_Uruguay</th>\n",
       "      <th>affiliation_country_Viet Nam</th>\n",
       "      <th>affiliation_country_Yemen</th>\n",
       "    </tr>\n",
       "  </thead>\n",
       "  <tbody>\n",
       "    <tr>\n",
       "      <th>0</th>\n",
       "      <td>10.1186/s11658-018-0107-z</td>\n",
       "      <td>23</td>\n",
       "      <td>9</td>\n",
       "      <td>1</td>\n",
       "      <td>0</td>\n",
       "      <td>1</td>\n",
       "      <td>15</td>\n",
       "      <td>268</td>\n",
       "      <td>Background: Inflammation is an important patho...</td>\n",
       "      <td>1</td>\n",
       "      <td>...</td>\n",
       "      <td>0</td>\n",
       "      <td>0</td>\n",
       "      <td>0</td>\n",
       "      <td>0</td>\n",
       "      <td>0</td>\n",
       "      <td>0</td>\n",
       "      <td>0</td>\n",
       "      <td>0</td>\n",
       "      <td>0</td>\n",
       "      <td>0</td>\n",
       "    </tr>\n",
       "    <tr>\n",
       "      <th>1</th>\n",
       "      <td>10.1007/s11033-019-05018-9</td>\n",
       "      <td>13</td>\n",
       "      <td>9</td>\n",
       "      <td>0</td>\n",
       "      <td>1</td>\n",
       "      <td>1</td>\n",
       "      <td>19</td>\n",
       "      <td>229</td>\n",
       "      <td>Parkinson’s disease (PD) is a chronic neurodeg...</td>\n",
       "      <td>1</td>\n",
       "      <td>...</td>\n",
       "      <td>0</td>\n",
       "      <td>0</td>\n",
       "      <td>0</td>\n",
       "      <td>0</td>\n",
       "      <td>0</td>\n",
       "      <td>0</td>\n",
       "      <td>0</td>\n",
       "      <td>0</td>\n",
       "      <td>0</td>\n",
       "      <td>0</td>\n",
       "    </tr>\n",
       "    <tr>\n",
       "      <th>2</th>\n",
       "      <td>10.1007/s00210-019-01645-y</td>\n",
       "      <td>32</td>\n",
       "      <td>10</td>\n",
       "      <td>0</td>\n",
       "      <td>1</td>\n",
       "      <td>0</td>\n",
       "      <td>20</td>\n",
       "      <td>248</td>\n",
       "      <td>Inflammation is being a protective mechanism o...</td>\n",
       "      <td>1</td>\n",
       "      <td>...</td>\n",
       "      <td>0</td>\n",
       "      <td>0</td>\n",
       "      <td>0</td>\n",
       "      <td>0</td>\n",
       "      <td>0</td>\n",
       "      <td>0</td>\n",
       "      <td>0</td>\n",
       "      <td>0</td>\n",
       "      <td>0</td>\n",
       "      <td>0</td>\n",
       "    </tr>\n",
       "    <tr>\n",
       "      <th>3</th>\n",
       "      <td>10.1038/s41419-018-1253-y</td>\n",
       "      <td>43</td>\n",
       "      <td>7</td>\n",
       "      <td>1</td>\n",
       "      <td>1</td>\n",
       "      <td>1</td>\n",
       "      <td>16</td>\n",
       "      <td>182</td>\n",
       "      <td>Accumulating evidence indicates that the pluri...</td>\n",
       "      <td>1</td>\n",
       "      <td>...</td>\n",
       "      <td>0</td>\n",
       "      <td>0</td>\n",
       "      <td>0</td>\n",
       "      <td>0</td>\n",
       "      <td>0</td>\n",
       "      <td>0</td>\n",
       "      <td>0</td>\n",
       "      <td>0</td>\n",
       "      <td>0</td>\n",
       "      <td>0</td>\n",
       "    </tr>\n",
       "    <tr>\n",
       "      <th>4</th>\n",
       "      <td>10.1007/s11095-022-03297-9</td>\n",
       "      <td>9</td>\n",
       "      <td>17</td>\n",
       "      <td>0</td>\n",
       "      <td>1</td>\n",
       "      <td>1</td>\n",
       "      <td>20</td>\n",
       "      <td>234</td>\n",
       "      <td>Purpose: Increasing the efficiency of unsucces...</td>\n",
       "      <td>1</td>\n",
       "      <td>...</td>\n",
       "      <td>0</td>\n",
       "      <td>0</td>\n",
       "      <td>0</td>\n",
       "      <td>0</td>\n",
       "      <td>0</td>\n",
       "      <td>0</td>\n",
       "      <td>0</td>\n",
       "      <td>0</td>\n",
       "      <td>0</td>\n",
       "      <td>0</td>\n",
       "    </tr>\n",
       "  </tbody>\n",
       "</table>\n",
       "<p>5 rows × 112 columns</p>\n",
       "</div>"
      ],
      "text/plain": [
       "                          DOI citation_count  numer_of_authors  open_access  \\\n",
       "0   10.1186/s11658-018-0107-z             23                 9            1   \n",
       "1  10.1007/s11033-019-05018-9             13                 9            0   \n",
       "2  10.1007/s00210-019-01645-y             32                10            0   \n",
       "3   10.1038/s41419-018-1253-y             43                 7            1   \n",
       "4  10.1007/s11095-022-03297-9              9                17            0   \n",
       "\n",
       "   orcid_availability  hospital_affiliation  title_count  abstract_count  \\\n",
       "0                   0                     1           15             268   \n",
       "1                   1                     1           19             229   \n",
       "2                   1                     0           20             248   \n",
       "3                   1                     1           16             182   \n",
       "4                   1                     1           20             234   \n",
       "\n",
       "                                            abstract  label  ...  \\\n",
       "0  Background: Inflammation is an important patho...      1  ...   \n",
       "1  Parkinson’s disease (PD) is a chronic neurodeg...      1  ...   \n",
       "2  Inflammation is being a protective mechanism o...      1  ...   \n",
       "3  Accumulating evidence indicates that the pluri...      1  ...   \n",
       "4  Purpose: Increasing the efficiency of unsucces...      1  ...   \n",
       "\n",
       "   affiliation_country_Trinidad and Tobago  affiliation_country_Tunisia  \\\n",
       "0                                        0                            0   \n",
       "1                                        0                            0   \n",
       "2                                        0                            0   \n",
       "3                                        0                            0   \n",
       "4                                        0                            0   \n",
       "\n",
       "   affiliation_country_Turkey  affiliation_country_Uganda  \\\n",
       "0                           0                           0   \n",
       "1                           0                           0   \n",
       "2                           0                           0   \n",
       "3                           0                           0   \n",
       "4                           0                           0   \n",
       "\n",
       "   affiliation_country_Ukraine  affiliation_country_United Kingdom  \\\n",
       "0                            0                                   0   \n",
       "1                            0                                   0   \n",
       "2                            0                                   0   \n",
       "3                            0                                   0   \n",
       "4                            0                                   0   \n",
       "\n",
       "   affiliation_country_United States  affiliation_country_Uruguay  \\\n",
       "0                                  0                            0   \n",
       "1                                  0                            0   \n",
       "2                                  0                            0   \n",
       "3                                  0                            0   \n",
       "4                                  0                            0   \n",
       "\n",
       "   affiliation_country_Viet Nam  affiliation_country_Yemen  \n",
       "0                             0                          0  \n",
       "1                             0                          0  \n",
       "2                             0                          0  \n",
       "3                             0                          0  \n",
       "4                             0                          0  \n",
       "\n",
       "[5 rows x 112 columns]"
      ]
     },
     "execution_count": 124,
     "metadata": {},
     "output_type": "execute_result"
    }
   ],
   "source": [
    "data.head()"
   ]
  },
  {
   "cell_type": "markdown",
   "metadata": {},
   "source": [
    "removing rows containing chinese words"
   ]
  },
  {
   "cell_type": "code",
   "execution_count": 158,
   "metadata": {},
   "outputs": [
    {
     "data": {
      "text/html": [
       "<div>\n",
       "<style scoped>\n",
       "    .dataframe tbody tr th:only-of-type {\n",
       "        vertical-align: middle;\n",
       "    }\n",
       "\n",
       "    .dataframe tbody tr th {\n",
       "        vertical-align: top;\n",
       "    }\n",
       "\n",
       "    .dataframe thead th {\n",
       "        text-align: right;\n",
       "    }\n",
       "</style>\n",
       "<table border=\"1\" class=\"dataframe\">\n",
       "  <thead>\n",
       "    <tr style=\"text-align: right;\">\n",
       "      <th></th>\n",
       "      <th>DOI</th>\n",
       "      <th>citation_count</th>\n",
       "      <th>numer_of_authors</th>\n",
       "      <th>open_access</th>\n",
       "      <th>orcid_availability</th>\n",
       "      <th>hospital_affiliation</th>\n",
       "      <th>title_count</th>\n",
       "      <th>abstract_count</th>\n",
       "      <th>abstract</th>\n",
       "      <th>label</th>\n",
       "      <th>...</th>\n",
       "      <th>affiliation_country_Turkey</th>\n",
       "      <th>affiliation_country_Uganda</th>\n",
       "      <th>affiliation_country_Ukraine</th>\n",
       "      <th>affiliation_country_United Kingdom</th>\n",
       "      <th>affiliation_country_United States</th>\n",
       "      <th>affiliation_country_Uruguay</th>\n",
       "      <th>affiliation_country_Viet Nam</th>\n",
       "      <th>affiliation_country_Yemen</th>\n",
       "      <th>abstract_lemmatized</th>\n",
       "      <th>contains_chinese</th>\n",
       "    </tr>\n",
       "  </thead>\n",
       "  <tbody>\n",
       "    <tr>\n",
       "      <th>0</th>\n",
       "      <td>10.1186/s11658-018-0107-z</td>\n",
       "      <td>23</td>\n",
       "      <td>9</td>\n",
       "      <td>1</td>\n",
       "      <td>0</td>\n",
       "      <td>1</td>\n",
       "      <td>15</td>\n",
       "      <td>268</td>\n",
       "      <td>Background: Inflammation is an important patho...</td>\n",
       "      <td>1</td>\n",
       "      <td>...</td>\n",
       "      <td>0</td>\n",
       "      <td>0</td>\n",
       "      <td>0</td>\n",
       "      <td>0</td>\n",
       "      <td>0</td>\n",
       "      <td>0</td>\n",
       "      <td>0</td>\n",
       "      <td>0</td>\n",
       "      <td>background : inflammation is an important path...</td>\n",
       "      <td>False</td>\n",
       "    </tr>\n",
       "    <tr>\n",
       "      <th>1</th>\n",
       "      <td>10.1007/s11033-019-05018-9</td>\n",
       "      <td>13</td>\n",
       "      <td>9</td>\n",
       "      <td>0</td>\n",
       "      <td>1</td>\n",
       "      <td>1</td>\n",
       "      <td>19</td>\n",
       "      <td>229</td>\n",
       "      <td>Parkinson’s disease (PD) is a chronic neurodeg...</td>\n",
       "      <td>1</td>\n",
       "      <td>...</td>\n",
       "      <td>0</td>\n",
       "      <td>0</td>\n",
       "      <td>0</td>\n",
       "      <td>0</td>\n",
       "      <td>0</td>\n",
       "      <td>0</td>\n",
       "      <td>0</td>\n",
       "      <td>0</td>\n",
       "      <td>parkinson ’ s disease ( pd ) is a chronic neur...</td>\n",
       "      <td>False</td>\n",
       "    </tr>\n",
       "    <tr>\n",
       "      <th>2</th>\n",
       "      <td>10.1007/s00210-019-01645-y</td>\n",
       "      <td>32</td>\n",
       "      <td>10</td>\n",
       "      <td>0</td>\n",
       "      <td>1</td>\n",
       "      <td>0</td>\n",
       "      <td>20</td>\n",
       "      <td>248</td>\n",
       "      <td>Inflammation is being a protective mechanism o...</td>\n",
       "      <td>1</td>\n",
       "      <td>...</td>\n",
       "      <td>0</td>\n",
       "      <td>0</td>\n",
       "      <td>0</td>\n",
       "      <td>0</td>\n",
       "      <td>0</td>\n",
       "      <td>0</td>\n",
       "      <td>0</td>\n",
       "      <td>0</td>\n",
       "      <td>inflammation is being a protective mechanism o...</td>\n",
       "      <td>False</td>\n",
       "    </tr>\n",
       "    <tr>\n",
       "      <th>3</th>\n",
       "      <td>10.1038/s41419-018-1253-y</td>\n",
       "      <td>43</td>\n",
       "      <td>7</td>\n",
       "      <td>1</td>\n",
       "      <td>1</td>\n",
       "      <td>1</td>\n",
       "      <td>16</td>\n",
       "      <td>182</td>\n",
       "      <td>Accumulating evidence indicates that the pluri...</td>\n",
       "      <td>1</td>\n",
       "      <td>...</td>\n",
       "      <td>0</td>\n",
       "      <td>0</td>\n",
       "      <td>0</td>\n",
       "      <td>0</td>\n",
       "      <td>0</td>\n",
       "      <td>0</td>\n",
       "      <td>0</td>\n",
       "      <td>0</td>\n",
       "      <td>accumulating evidence indicates that the pluri...</td>\n",
       "      <td>False</td>\n",
       "    </tr>\n",
       "    <tr>\n",
       "      <th>4</th>\n",
       "      <td>10.1007/s11095-022-03297-9</td>\n",
       "      <td>9</td>\n",
       "      <td>17</td>\n",
       "      <td>0</td>\n",
       "      <td>1</td>\n",
       "      <td>1</td>\n",
       "      <td>20</td>\n",
       "      <td>234</td>\n",
       "      <td>Purpose: Increasing the efficiency of unsucces...</td>\n",
       "      <td>1</td>\n",
       "      <td>...</td>\n",
       "      <td>0</td>\n",
       "      <td>0</td>\n",
       "      <td>0</td>\n",
       "      <td>0</td>\n",
       "      <td>0</td>\n",
       "      <td>0</td>\n",
       "      <td>0</td>\n",
       "      <td>0</td>\n",
       "      <td>purpose : increasing the efficiency of unsucce...</td>\n",
       "      <td>False</td>\n",
       "    </tr>\n",
       "    <tr>\n",
       "      <th>...</th>\n",
       "      <td>...</td>\n",
       "      <td>...</td>\n",
       "      <td>...</td>\n",
       "      <td>...</td>\n",
       "      <td>...</td>\n",
       "      <td>...</td>\n",
       "      <td>...</td>\n",
       "      <td>...</td>\n",
       "      <td>...</td>\n",
       "      <td>...</td>\n",
       "      <td>...</td>\n",
       "      <td>...</td>\n",
       "      <td>...</td>\n",
       "      <td>...</td>\n",
       "      <td>...</td>\n",
       "      <td>...</td>\n",
       "      <td>...</td>\n",
       "      <td>...</td>\n",
       "      <td>...</td>\n",
       "      <td>...</td>\n",
       "      <td>...</td>\n",
       "    </tr>\n",
       "    <tr>\n",
       "      <th>6944</th>\n",
       "      <td>10.1039/c5pp00230c</td>\n",
       "      <td>13</td>\n",
       "      <td>8</td>\n",
       "      <td>1</td>\n",
       "      <td>0</td>\n",
       "      <td>0</td>\n",
       "      <td>19</td>\n",
       "      <td>220</td>\n",
       "      <td>A cationic cyclometallated Ir(iii) complex wit...</td>\n",
       "      <td>0</td>\n",
       "      <td>...</td>\n",
       "      <td>0</td>\n",
       "      <td>0</td>\n",
       "      <td>0</td>\n",
       "      <td>0</td>\n",
       "      <td>0</td>\n",
       "      <td>0</td>\n",
       "      <td>0</td>\n",
       "      <td>0</td>\n",
       "      <td>a cationic cyclometallated ir ( iii ) complex ...</td>\n",
       "      <td>False</td>\n",
       "    </tr>\n",
       "    <tr>\n",
       "      <th>6945</th>\n",
       "      <td>10.1016/j.ijscr.2022.107763</td>\n",
       "      <td>0</td>\n",
       "      <td>5</td>\n",
       "      <td>1</td>\n",
       "      <td>0</td>\n",
       "      <td>0</td>\n",
       "      <td>10</td>\n",
       "      <td>218</td>\n",
       "      <td>Introduction and importance: Tuberculosis is a...</td>\n",
       "      <td>0</td>\n",
       "      <td>...</td>\n",
       "      <td>0</td>\n",
       "      <td>0</td>\n",
       "      <td>0</td>\n",
       "      <td>0</td>\n",
       "      <td>0</td>\n",
       "      <td>0</td>\n",
       "      <td>0</td>\n",
       "      <td>0</td>\n",
       "      <td>introduction and importance : tuberculosis is ...</td>\n",
       "      <td>False</td>\n",
       "    </tr>\n",
       "    <tr>\n",
       "      <th>6946</th>\n",
       "      <td>10.1159/000342715</td>\n",
       "      <td>50</td>\n",
       "      <td>4</td>\n",
       "      <td>0</td>\n",
       "      <td>0</td>\n",
       "      <td>0</td>\n",
       "      <td>17</td>\n",
       "      <td>254</td>\n",
       "      <td>Background: A number of studies have demonstra...</td>\n",
       "      <td>0</td>\n",
       "      <td>...</td>\n",
       "      <td>0</td>\n",
       "      <td>0</td>\n",
       "      <td>0</td>\n",
       "      <td>0</td>\n",
       "      <td>0</td>\n",
       "      <td>0</td>\n",
       "      <td>0</td>\n",
       "      <td>0</td>\n",
       "      <td>background : a number of study have demonstrat...</td>\n",
       "      <td>False</td>\n",
       "    </tr>\n",
       "    <tr>\n",
       "      <th>6947</th>\n",
       "      <td>10.1371/journal.pmed.1001547</td>\n",
       "      <td>2260</td>\n",
       "      <td>8</td>\n",
       "      <td>1</td>\n",
       "      <td>0</td>\n",
       "      <td>0</td>\n",
       "      <td>19</td>\n",
       "      <td>320</td>\n",
       "      <td>Background:Depressive disorders were a leading...</td>\n",
       "      <td>0</td>\n",
       "      <td>...</td>\n",
       "      <td>0</td>\n",
       "      <td>0</td>\n",
       "      <td>0</td>\n",
       "      <td>0</td>\n",
       "      <td>0</td>\n",
       "      <td>0</td>\n",
       "      <td>0</td>\n",
       "      <td>0</td>\n",
       "      <td>background : depressive disorder were a leadin...</td>\n",
       "      <td>False</td>\n",
       "    </tr>\n",
       "    <tr>\n",
       "      <th>6948</th>\n",
       "      <td>10.1038/srep14185</td>\n",
       "      <td>49</td>\n",
       "      <td>4</td>\n",
       "      <td>1</td>\n",
       "      <td>0</td>\n",
       "      <td>0</td>\n",
       "      <td>14</td>\n",
       "      <td>191</td>\n",
       "      <td>Arabidopsis VQ motif-containing proteins have ...</td>\n",
       "      <td>0</td>\n",
       "      <td>...</td>\n",
       "      <td>0</td>\n",
       "      <td>0</td>\n",
       "      <td>0</td>\n",
       "      <td>0</td>\n",
       "      <td>0</td>\n",
       "      <td>0</td>\n",
       "      <td>0</td>\n",
       "      <td>0</td>\n",
       "      <td>arabidopsis vq motif-containing protein have r...</td>\n",
       "      <td>False</td>\n",
       "    </tr>\n",
       "  </tbody>\n",
       "</table>\n",
       "<p>6345 rows × 114 columns</p>\n",
       "</div>"
      ],
      "text/plain": [
       "                               DOI citation_count  numer_of_authors  \\\n",
       "0        10.1186/s11658-018-0107-z             23                 9   \n",
       "1       10.1007/s11033-019-05018-9             13                 9   \n",
       "2       10.1007/s00210-019-01645-y             32                10   \n",
       "3        10.1038/s41419-018-1253-y             43                 7   \n",
       "4       10.1007/s11095-022-03297-9              9                17   \n",
       "...                            ...            ...               ...   \n",
       "6944            10.1039/c5pp00230c             13                 8   \n",
       "6945   10.1016/j.ijscr.2022.107763              0                 5   \n",
       "6946             10.1159/000342715             50                 4   \n",
       "6947  10.1371/journal.pmed.1001547           2260                 8   \n",
       "6948             10.1038/srep14185             49                 4   \n",
       "\n",
       "      open_access  orcid_availability  hospital_affiliation  title_count  \\\n",
       "0               1                   0                     1           15   \n",
       "1               0                   1                     1           19   \n",
       "2               0                   1                     0           20   \n",
       "3               1                   1                     1           16   \n",
       "4               0                   1                     1           20   \n",
       "...           ...                 ...                   ...          ...   \n",
       "6944            1                   0                     0           19   \n",
       "6945            1                   0                     0           10   \n",
       "6946            0                   0                     0           17   \n",
       "6947            1                   0                     0           19   \n",
       "6948            1                   0                     0           14   \n",
       "\n",
       "      abstract_count                                           abstract  \\\n",
       "0                268  Background: Inflammation is an important patho...   \n",
       "1                229  Parkinson’s disease (PD) is a chronic neurodeg...   \n",
       "2                248  Inflammation is being a protective mechanism o...   \n",
       "3                182  Accumulating evidence indicates that the pluri...   \n",
       "4                234  Purpose: Increasing the efficiency of unsucces...   \n",
       "...              ...                                                ...   \n",
       "6944             220  A cationic cyclometallated Ir(iii) complex wit...   \n",
       "6945             218  Introduction and importance: Tuberculosis is a...   \n",
       "6946             254  Background: A number of studies have demonstra...   \n",
       "6947             320  Background:Depressive disorders were a leading...   \n",
       "6948             191  Arabidopsis VQ motif-containing proteins have ...   \n",
       "\n",
       "      label  ...  affiliation_country_Turkey  affiliation_country_Uganda  \\\n",
       "0         1  ...                           0                           0   \n",
       "1         1  ...                           0                           0   \n",
       "2         1  ...                           0                           0   \n",
       "3         1  ...                           0                           0   \n",
       "4         1  ...                           0                           0   \n",
       "...     ...  ...                         ...                         ...   \n",
       "6944      0  ...                           0                           0   \n",
       "6945      0  ...                           0                           0   \n",
       "6946      0  ...                           0                           0   \n",
       "6947      0  ...                           0                           0   \n",
       "6948      0  ...                           0                           0   \n",
       "\n",
       "      affiliation_country_Ukraine  affiliation_country_United Kingdom  \\\n",
       "0                               0                                   0   \n",
       "1                               0                                   0   \n",
       "2                               0                                   0   \n",
       "3                               0                                   0   \n",
       "4                               0                                   0   \n",
       "...                           ...                                 ...   \n",
       "6944                            0                                   0   \n",
       "6945                            0                                   0   \n",
       "6946                            0                                   0   \n",
       "6947                            0                                   0   \n",
       "6948                            0                                   0   \n",
       "\n",
       "      affiliation_country_United States  affiliation_country_Uruguay  \\\n",
       "0                                     0                            0   \n",
       "1                                     0                            0   \n",
       "2                                     0                            0   \n",
       "3                                     0                            0   \n",
       "4                                     0                            0   \n",
       "...                                 ...                          ...   \n",
       "6944                                  0                            0   \n",
       "6945                                  0                            0   \n",
       "6946                                  0                            0   \n",
       "6947                                  0                            0   \n",
       "6948                                  0                            0   \n",
       "\n",
       "      affiliation_country_Viet Nam  affiliation_country_Yemen  \\\n",
       "0                                0                          0   \n",
       "1                                0                          0   \n",
       "2                                0                          0   \n",
       "3                                0                          0   \n",
       "4                                0                          0   \n",
       "...                            ...                        ...   \n",
       "6944                             0                          0   \n",
       "6945                             0                          0   \n",
       "6946                             0                          0   \n",
       "6947                             0                          0   \n",
       "6948                             0                          0   \n",
       "\n",
       "                                    abstract_lemmatized  contains_chinese  \n",
       "0     background : inflammation is an important path...             False  \n",
       "1     parkinson ’ s disease ( pd ) is a chronic neur...             False  \n",
       "2     inflammation is being a protective mechanism o...             False  \n",
       "3     accumulating evidence indicates that the pluri...             False  \n",
       "4     purpose : increasing the efficiency of unsucce...             False  \n",
       "...                                                 ...               ...  \n",
       "6944  a cationic cyclometallated ir ( iii ) complex ...             False  \n",
       "6945  introduction and importance : tuberculosis is ...             False  \n",
       "6946  background : a number of study have demonstrat...             False  \n",
       "6947  background : depressive disorder were a leadin...             False  \n",
       "6948  arabidopsis vq motif-containing protein have r...             False  \n",
       "\n",
       "[6345 rows x 114 columns]"
      ]
     },
     "execution_count": 158,
     "metadata": {},
     "output_type": "execute_result"
    }
   ],
   "source": [
    "import re\n",
    "\n",
    "chisese_pattern = re.compile(r'[\\u4e00-\\u9fff]')\n",
    "\n",
    "def chinese_checker(word):\n",
    "    return bool(chisese_pattern.search(word))  \n",
    "\n",
    "data['chinese'] = data['abstract'].apply(chinese_checker)\n",
    "\n",
    "data = data[~data['chinese']].drop(columns = ['chinese'])\n",
    "data"
   ]
  },
  {
   "cell_type": "markdown",
   "metadata": {},
   "source": [
    "renaming target variable from 'label' to 'target_variable' to avoid conflict with a tf_idf feature"
   ]
  },
  {
   "cell_type": "code",
   "execution_count": 171,
   "metadata": {},
   "outputs": [],
   "source": [
    "data = data.rename(columns = {'label': 'target_variable'})"
   ]
  },
  {
   "cell_type": "markdown",
   "metadata": {},
   "source": [
    "Vectorizing the abstracts to produce TF-IDF features"
   ]
  },
  {
   "cell_type": "markdown",
   "metadata": {},
   "source": [
    "Lemmatization of abstracts"
   ]
  },
  {
   "cell_type": "code",
   "execution_count": 176,
   "metadata": {},
   "outputs": [],
   "source": [
    "from nltk.tokenize import word_tokenize\n",
    "from nltk.stem import WordNetLemmatizer\n",
    "\n",
    "def lemmatization(abstract):\n",
    "    lemmatizer = WordNetLemmatizer()\n",
    "    abstract = abstract.lower()\n",
    "    tokens = word_tokenize(abstract)\n",
    "    lemm_tokens =  [lemmatizer.lemmatize(token) for token in tokens]\n",
    "    return ' '.join(lemm_tokens)"
   ]
  },
  {
   "cell_type": "code",
   "execution_count": 177,
   "metadata": {},
   "outputs": [],
   "source": [
    "data['abstract_lemmatized'] = data['abstract'].apply(lemmatization)"
   ]
  },
  {
   "cell_type": "markdown",
   "metadata": {},
   "source": [
    "removing stopwords and vectorizing the abstract"
   ]
  },
  {
   "cell_type": "code",
   "execution_count": 178,
   "metadata": {},
   "outputs": [],
   "source": [
    "from sklearn.feature_extraction.text import TfidfVectorizer\n",
    "from nltk.corpus import stopwords\n",
    "\n",
    "stopwords = stopwords.words('english')\n",
    "vectorizer = TfidfVectorizer(stop_words = stopwords)\n",
    "tfidf_vectors = vectorizer.fit_transform(data['abstract_lemmatized'])\n",
    "tfidf_df = pd.DataFrame(tfidf_vectors.toarray(), columns = vectorizer.get_feature_names_out())\n"
   ]
  },
  {
   "cell_type": "code",
   "execution_count": 179,
   "metadata": {},
   "outputs": [
    {
     "data": {
      "text/html": [
       "<div>\n",
       "<style scoped>\n",
       "    .dataframe tbody tr th:only-of-type {\n",
       "        vertical-align: middle;\n",
       "    }\n",
       "\n",
       "    .dataframe tbody tr th {\n",
       "        vertical-align: top;\n",
       "    }\n",
       "\n",
       "    .dataframe thead th {\n",
       "        text-align: right;\n",
       "    }\n",
       "</style>\n",
       "<table border=\"1\" class=\"dataframe\">\n",
       "  <thead>\n",
       "    <tr style=\"text-align: right;\">\n",
       "      <th></th>\n",
       "      <th>00</th>\n",
       "      <th>000</th>\n",
       "      <th>00000000</th>\n",
       "      <th>00001</th>\n",
       "      <th>00004</th>\n",
       "      <th>00008</th>\n",
       "      <th>0001</th>\n",
       "      <th>00015</th>\n",
       "      <th>00019</th>\n",
       "      <th>0002</th>\n",
       "      <th>...</th>\n",
       "      <th>φair</th>\n",
       "      <th>φbt1</th>\n",
       "      <th>χ2</th>\n",
       "      <th>ψleaf</th>\n",
       "      <th>ω1</th>\n",
       "      <th>ω2</th>\n",
       "      <th>ωco</th>\n",
       "      <th>ϵ4</th>\n",
       "      <th>кb</th>\n",
       "      <th>ℓ1</th>\n",
       "    </tr>\n",
       "  </thead>\n",
       "  <tbody>\n",
       "    <tr>\n",
       "      <th>0</th>\n",
       "      <td>0.0</td>\n",
       "      <td>0.0</td>\n",
       "      <td>0.0</td>\n",
       "      <td>0.0</td>\n",
       "      <td>0.0</td>\n",
       "      <td>0.0</td>\n",
       "      <td>0.0</td>\n",
       "      <td>0.0</td>\n",
       "      <td>0.0</td>\n",
       "      <td>0.0</td>\n",
       "      <td>...</td>\n",
       "      <td>0.0</td>\n",
       "      <td>0.0</td>\n",
       "      <td>0.0</td>\n",
       "      <td>0.0</td>\n",
       "      <td>0.0</td>\n",
       "      <td>0.0</td>\n",
       "      <td>0.0</td>\n",
       "      <td>0.0</td>\n",
       "      <td>0.0</td>\n",
       "      <td>0.0</td>\n",
       "    </tr>\n",
       "    <tr>\n",
       "      <th>1</th>\n",
       "      <td>0.0</td>\n",
       "      <td>0.0</td>\n",
       "      <td>0.0</td>\n",
       "      <td>0.0</td>\n",
       "      <td>0.0</td>\n",
       "      <td>0.0</td>\n",
       "      <td>0.0</td>\n",
       "      <td>0.0</td>\n",
       "      <td>0.0</td>\n",
       "      <td>0.0</td>\n",
       "      <td>...</td>\n",
       "      <td>0.0</td>\n",
       "      <td>0.0</td>\n",
       "      <td>0.0</td>\n",
       "      <td>0.0</td>\n",
       "      <td>0.0</td>\n",
       "      <td>0.0</td>\n",
       "      <td>0.0</td>\n",
       "      <td>0.0</td>\n",
       "      <td>0.0</td>\n",
       "      <td>0.0</td>\n",
       "    </tr>\n",
       "    <tr>\n",
       "      <th>2</th>\n",
       "      <td>0.0</td>\n",
       "      <td>0.0</td>\n",
       "      <td>0.0</td>\n",
       "      <td>0.0</td>\n",
       "      <td>0.0</td>\n",
       "      <td>0.0</td>\n",
       "      <td>0.0</td>\n",
       "      <td>0.0</td>\n",
       "      <td>0.0</td>\n",
       "      <td>0.0</td>\n",
       "      <td>...</td>\n",
       "      <td>0.0</td>\n",
       "      <td>0.0</td>\n",
       "      <td>0.0</td>\n",
       "      <td>0.0</td>\n",
       "      <td>0.0</td>\n",
       "      <td>0.0</td>\n",
       "      <td>0.0</td>\n",
       "      <td>0.0</td>\n",
       "      <td>0.0</td>\n",
       "      <td>0.0</td>\n",
       "    </tr>\n",
       "    <tr>\n",
       "      <th>3</th>\n",
       "      <td>0.0</td>\n",
       "      <td>0.0</td>\n",
       "      <td>0.0</td>\n",
       "      <td>0.0</td>\n",
       "      <td>0.0</td>\n",
       "      <td>0.0</td>\n",
       "      <td>0.0</td>\n",
       "      <td>0.0</td>\n",
       "      <td>0.0</td>\n",
       "      <td>0.0</td>\n",
       "      <td>...</td>\n",
       "      <td>0.0</td>\n",
       "      <td>0.0</td>\n",
       "      <td>0.0</td>\n",
       "      <td>0.0</td>\n",
       "      <td>0.0</td>\n",
       "      <td>0.0</td>\n",
       "      <td>0.0</td>\n",
       "      <td>0.0</td>\n",
       "      <td>0.0</td>\n",
       "      <td>0.0</td>\n",
       "    </tr>\n",
       "    <tr>\n",
       "      <th>4</th>\n",
       "      <td>0.0</td>\n",
       "      <td>0.0</td>\n",
       "      <td>0.0</td>\n",
       "      <td>0.0</td>\n",
       "      <td>0.0</td>\n",
       "      <td>0.0</td>\n",
       "      <td>0.0</td>\n",
       "      <td>0.0</td>\n",
       "      <td>0.0</td>\n",
       "      <td>0.0</td>\n",
       "      <td>...</td>\n",
       "      <td>0.0</td>\n",
       "      <td>0.0</td>\n",
       "      <td>0.0</td>\n",
       "      <td>0.0</td>\n",
       "      <td>0.0</td>\n",
       "      <td>0.0</td>\n",
       "      <td>0.0</td>\n",
       "      <td>0.0</td>\n",
       "      <td>0.0</td>\n",
       "      <td>0.0</td>\n",
       "    </tr>\n",
       "  </tbody>\n",
       "</table>\n",
       "<p>5 rows × 44075 columns</p>\n",
       "</div>"
      ],
      "text/plain": [
       "    00  000  00000000  00001  00004  00008  0001  00015  00019  0002  ...  \\\n",
       "0  0.0  0.0       0.0    0.0    0.0    0.0   0.0    0.0    0.0   0.0  ...   \n",
       "1  0.0  0.0       0.0    0.0    0.0    0.0   0.0    0.0    0.0   0.0  ...   \n",
       "2  0.0  0.0       0.0    0.0    0.0    0.0   0.0    0.0    0.0   0.0  ...   \n",
       "3  0.0  0.0       0.0    0.0    0.0    0.0   0.0    0.0    0.0   0.0  ...   \n",
       "4  0.0  0.0       0.0    0.0    0.0    0.0   0.0    0.0    0.0   0.0  ...   \n",
       "\n",
       "   φair  φbt1   χ2  ψleaf   ω1   ω2  ωco   ϵ4   кb   ℓ1  \n",
       "0   0.0   0.0  0.0    0.0  0.0  0.0  0.0  0.0  0.0  0.0  \n",
       "1   0.0   0.0  0.0    0.0  0.0  0.0  0.0  0.0  0.0  0.0  \n",
       "2   0.0   0.0  0.0    0.0  0.0  0.0  0.0  0.0  0.0  0.0  \n",
       "3   0.0   0.0  0.0    0.0  0.0  0.0  0.0  0.0  0.0  0.0  \n",
       "4   0.0   0.0  0.0    0.0  0.0  0.0  0.0  0.0  0.0  0.0  \n",
       "\n",
       "[5 rows x 44075 columns]"
      ]
     },
     "execution_count": 179,
     "metadata": {},
     "output_type": "execute_result"
    }
   ],
   "source": [
    "tfidf_df.head()"
   ]
  },
  {
   "cell_type": "markdown",
   "metadata": {},
   "source": [
    "adding DOI and target_variable column to tfidf dataset"
   ]
  },
  {
   "cell_type": "code",
   "execution_count": null,
   "metadata": {},
   "outputs": [],
   "source": [
    "tfidf_df = pd.concat([data[['DOI', 'target_variable']], tfidf_df], axis = 1)"
   ]
  },
  {
   "cell_type": "markdown",
   "metadata": {},
   "source": [
    "saving the data"
   ]
  },
  {
   "cell_type": "code",
   "execution_count": 298,
   "metadata": {},
   "outputs": [],
   "source": [
    "data.to_csv('D:\\\\paper\\\\recent_metadata.csv', index = False)"
   ]
  },
  {
   "cell_type": "code",
   "execution_count": 299,
   "metadata": {},
   "outputs": [],
   "source": [
    "tfidf_df.to_csv('D:\\\\paper\\\\recent_tfidf_df.csv', index = False)"
   ]
  },
  {
   "cell_type": "markdown",
   "metadata": {},
   "source": [
    "resetting index of both dataframes"
   ]
  },
  {
   "cell_type": "code",
   "execution_count": null,
   "metadata": {},
   "outputs": [],
   "source": [
    "data = data.reset_index(drop=True)\n",
    "tfidf_df = tfidf_df.reset_index(drop=True)"
   ]
  },
  {
   "cell_type": "code",
   "execution_count": 224,
   "metadata": {},
   "outputs": [],
   "source": [
    "combined_data = pd.concat([data, tfidf_df], axis=  1)"
   ]
  },
  {
   "cell_type": "code",
   "execution_count": 195,
   "metadata": {},
   "outputs": [],
   "source": [
    "combined_data.to_csv('D:\\\\paper\\\\combined_features.csv', index = False)"
   ]
  },
  {
   "cell_type": "code",
   "execution_count": 300,
   "metadata": {},
   "outputs": [
    {
     "data": {
      "text/plain": [
       "target_variable\n",
       "1    3107\n",
       "0    3107\n",
       "Name: count, dtype: int64"
      ]
     },
     "execution_count": 300,
     "metadata": {},
     "output_type": "execute_result"
    }
   ],
   "source": [
    "combined_data.target_variable.value_counts()"
   ]
  },
  {
   "cell_type": "markdown",
   "metadata": {},
   "source": [
    "down sampling the non-retracted class to have a balanced dataset"
   ]
  },
  {
   "cell_type": "code",
   "execution_count": 280,
   "metadata": {},
   "outputs": [],
   "source": [
    "non_retractions = combined_data[combined_data['target_variable'] == 0]\n",
    "retractions = combined_data[combined_data['target_variable'] == 1]\n",
    "\n",
    "downsampled_non_retractions = non_retractions.sample(3107)\n",
    "\n",
    "downsampled_non_retractions.shape\n",
    "\n",
    "combined_data = pd.concat([retractions, downsampled_non_retractions], axis = 0)"
   ]
  },
  {
   "cell_type": "markdown",
   "metadata": {},
   "source": [
    "downsampling metadata"
   ]
  },
  {
   "cell_type": "code",
   "execution_count": 292,
   "metadata": {},
   "outputs": [],
   "source": [
    "non_retractions = data[data['target_variable'] == 0]\n",
    "retractions = data[data['target_variable'] == 1]\n",
    "\n",
    "downsampled_non_retractions = non_retractions.sample(3107)\n",
    "\n",
    "downsampled_non_retractions.shape\n",
    "\n",
    "data = pd.concat([retractions, downsampled_non_retractions], axis = 0)"
   ]
  },
  {
   "cell_type": "markdown",
   "metadata": {},
   "source": [
    "downsampling TF-IDF featuers"
   ]
  },
  {
   "cell_type": "code",
   "execution_count": 296,
   "metadata": {},
   "outputs": [],
   "source": [
    "non_retractions = tfidf_df[tfidf_df['target_variable'] == 0]\n",
    "retractions = tfidf_df[tfidf_df['target_variable'] == 1]\n",
    "\n",
    "downsampled_non_retractions = non_retractions.sample(3107)\n",
    "\n",
    "downsampled_non_retractions.shape\n",
    "\n",
    "tfidf_df = pd.concat([retractions, downsampled_non_retractions], axis = 0)"
   ]
  },
  {
   "cell_type": "code",
   "execution_count": 297,
   "metadata": {},
   "outputs": [
    {
     "data": {
      "text/plain": [
       "target_variable\n",
       "1    3107\n",
       "0    3107\n",
       "Name: count, dtype: int64"
      ]
     },
     "execution_count": 297,
     "metadata": {},
     "output_type": "execute_result"
    }
   ],
   "source": [
    "tfidf_df.target_variable.value_counts()"
   ]
  },
  {
   "cell_type": "markdown",
   "metadata": {},
   "source": [
    "saving combined feature dataset"
   ]
  },
  {
   "cell_type": "code",
   "execution_count": 286,
   "metadata": {},
   "outputs": [],
   "source": [
    "combined_data.to_csv('D:\\\\paper\\\\combined_features.csv', index = False)"
   ]
  },
  {
   "cell_type": "markdown",
   "metadata": {},
   "source": [
    "seperating target variable for training of machine learning models"
   ]
  },
  {
   "cell_type": "code",
   "execution_count": 282,
   "metadata": {},
   "outputs": [],
   "source": [
    "X = combined_data.drop(columns = ['DOI', 'abstract', 'target_variable', 'abstract_lemmatized'])\n",
    "y = combined_data.target_variable"
   ]
  },
  {
   "cell_type": "markdown",
   "metadata": {},
   "source": [
    "seperating training and test variables"
   ]
  },
  {
   "cell_type": "code",
   "execution_count": 287,
   "metadata": {},
   "outputs": [],
   "source": [
    "from sklearn.model_selection import train_test_split\n",
    "\n",
    "X_train, X_test, y_train, y_test = train_test_split(\n",
    "    X,\n",
    "    y,\n",
    "    test_size = 0.2,\n",
    "    random_state = 2022,\n",
    "    stratify = y\n",
    ")"
   ]
  },
  {
   "cell_type": "markdown",
   "metadata": {},
   "source": [
    "random forest hyperparameter tuning for mixed feature dataset"
   ]
  },
  {
   "cell_type": "code",
   "execution_count": 10,
   "metadata": {},
   "outputs": [
    {
     "name": "stdout",
     "output_type": "stream",
     "text": [
      "Best parameters: {'criterion': 'gini', 'min_samples_split': 5, 'n_estimators': 200}\n",
      "Best cross-validation score: 0.8145596470388596\n"
     ]
    }
   ],
   "source": [
    "import numpy as np\n",
    "from sklearn.model_selection import GridSearchCV\n",
    "from sklearn.model_selection import StratifiedKFold\n",
    "from sklearn.ensemble import RandomForestClassifier\n",
    "\n",
    "\n",
    "rf = RandomForestClassifier(class_weight='balanced')\n",
    "\n",
    "estimators        = np.array([100, 200])\n",
    "criterion         = np.array(['gini', 'entropy'])\n",
    "min_samples_split = np.array([2, 5])\n",
    "\n",
    "param_grid = {\n",
    "    'n_estimators':      estimators,\n",
    "    'criterion':         criterion,\n",
    "    'min_samples_split': min_samples_split\n",
    "}\n",
    "\n",
    "skf = StratifiedKFold(n_splits=5, shuffle=True, random_state=1)\n",
    "\n",
    "grid_search = GridSearchCV(\n",
    "    estimator     = rf,\n",
    "    param_grid    = param_grid,\n",
    "    scoring       = 'recall',\n",
    "    cv            = skf,\n",
    "    n_jobs        = -1,\n",
    "    refit         = 'False'\n",
    ")\n",
    "\n",
    "grid_search.fit(X_train, y_train)\n",
    "\n",
    "print(\"Best parameters:\", grid_search.best_params_)\n",
    "print(\"Best cross-validation score:\", grid_search.best_score_)"
   ]
  },
  {
   "cell_type": "markdown",
   "metadata": {},
   "source": [
    "random forest classifier for mixed feature dataset"
   ]
  },
  {
   "cell_type": "code",
   "execution_count": 288,
   "metadata": {},
   "outputs": [
    {
     "name": "stdout",
     "output_type": "stream",
     "text": [
      "              precision    recall  f1-score   support\n",
      "\n",
      "           0       0.81      0.81      0.81       621\n",
      "           1       0.81      0.82      0.81       622\n",
      "\n",
      "    accuracy                           0.81      1243\n",
      "   macro avg       0.81      0.81      0.81      1243\n",
      "weighted avg       0.81      0.81      0.81      1243\n",
      "\n"
     ]
    }
   ],
   "source": [
    "from sklearn.metrics import classification_report\n",
    "\n",
    "rf_mixed = RandomForestClassifier(criterion = 'gini', min_samples_split = 5, n_estimators = 200)\n",
    "\n",
    "rf_mixed.fit(X_train, y_train)\n",
    "\n",
    "y_pred = rf_mixed.predict(X_test)\n",
    "\n",
    "print(classification_report(y_test, y_pred))"
   ]
  },
  {
   "cell_type": "markdown",
   "metadata": {},
   "source": [
    "random forest classifier for metadata feature dataset"
   ]
  },
  {
   "cell_type": "code",
   "execution_count": 301,
   "metadata": {},
   "outputs": [],
   "source": [
    "X_meta = data.drop(columns = ['DOI', 'abstract', 'target_variable', 'abstract_lemmatized'])\n",
    "y_meta = data.target_variable"
   ]
  },
  {
   "cell_type": "code",
   "execution_count": 302,
   "metadata": {},
   "outputs": [],
   "source": [
    "from sklearn.model_selection import train_test_split\n",
    "\n",
    "X_train, X_test, y_train, y_test = train_test_split(\n",
    "    X_meta,\n",
    "    y_meta,\n",
    "    test_size = 0.2,\n",
    "    random_state = 2022,\n",
    "    stratify = y_meta\n",
    ")"
   ]
  },
  {
   "cell_type": "code",
   "execution_count": 303,
   "metadata": {},
   "outputs": [
    {
     "name": "stdout",
     "output_type": "stream",
     "text": [
      "              precision    recall  f1-score   support\n",
      "\n",
      "           0       0.74      0.72      0.73       621\n",
      "           1       0.73      0.75      0.74       622\n",
      "\n",
      "    accuracy                           0.74      1243\n",
      "   macro avg       0.74      0.74      0.74      1243\n",
      "weighted avg       0.74      0.74      0.74      1243\n",
      "\n"
     ]
    }
   ],
   "source": [
    "rf_metadata = RandomForestClassifier(criterion = 'gini', min_samples_split = 5, n_estimators = 200)\n",
    "\n",
    "rf_metadata.fit(X_train, y_train)\n",
    "\n",
    "y_pred = rf_metadata.predict(X_test)\n",
    "\n",
    "print(classification_report(y_test, y_pred))"
   ]
  },
  {
   "cell_type": "markdown",
   "metadata": {},
   "source": [
    "random forest classifier for tfidf feature dataset"
   ]
  },
  {
   "cell_type": "code",
   "execution_count": 304,
   "metadata": {},
   "outputs": [],
   "source": [
    "X_tfidf = tfidf_df.drop(columns = ['DOI', 'target_variable'])\n",
    "y_tfidf = tfidf_df.target_variable"
   ]
  },
  {
   "cell_type": "code",
   "execution_count": 305,
   "metadata": {},
   "outputs": [],
   "source": [
    "X_train, X_test, y_train, y_test = train_test_split(\n",
    "    X_tfidf,\n",
    "    y_tfidf,\n",
    "    test_size = 0.2,\n",
    "    random_state = 2022,\n",
    "    stratify = y_tfidf\n",
    ")"
   ]
  },
  {
   "cell_type": "code",
   "execution_count": 306,
   "metadata": {},
   "outputs": [
    {
     "name": "stdout",
     "output_type": "stream",
     "text": [
      "              precision    recall  f1-score   support\n",
      "\n",
      "           0       0.80      0.75      0.78       621\n",
      "           1       0.77      0.81      0.79       622\n",
      "\n",
      "    accuracy                           0.78      1243\n",
      "   macro avg       0.78      0.78      0.78      1243\n",
      "weighted avg       0.78      0.78      0.78      1243\n",
      "\n"
     ]
    }
   ],
   "source": [
    "rf_tfidf = RandomForestClassifier(criterion = 'gini', min_samples_split = 5, n_estimators = 200)\n",
    "\n",
    "rf_tfidf.fit(X_train, y_train)\n",
    "\n",
    "y_pred = rf_tfidf.predict(X_test)\n",
    "\n",
    "print(classification_report(y_test, y_pred))"
   ]
  },
  {
   "cell_type": "markdown",
   "metadata": {},
   "source": [
    "Gradient boosting classifire hyperparameter tuning for metadata feature dataset"
   ]
  },
  {
   "cell_type": "code",
   "execution_count": 8,
   "metadata": {},
   "outputs": [
    {
     "name": "stdout",
     "output_type": "stream",
     "text": [
      "Best parameters: {'learning_rate': 0.2, 'max_depth': 5, 'min_samples_split': 2, 'n_estimators': 200}\n",
      "Best cross-validation score: 0.8032993139560254\n"
     ]
    }
   ],
   "source": [
    "from sklearn.ensemble import GradientBoostingClassifier\n",
    "import numpy as np\n",
    "from sklearn.model_selection import GridSearchCV\n",
    "from sklearn.model_selection import StratifiedKFold\n",
    "\n",
    "gb = GradientBoostingClassifier()\n",
    "\n",
    "estimators        = np.array([100, 200])\n",
    "learning_rate     = np.array([0.001, 0.01, 0.2])\n",
    "max_depth         = np.array([3, 4, 5])\n",
    "min_samples_split = np.array([2, 5])\n",
    "\n",
    "param_grid = {\n",
    "    'n_estimators':      estimators,\n",
    "    'learning_rate':     learning_rate,\n",
    "    'max_depth':         max_depth,\n",
    "    'min_samples_split': min_samples_split\n",
    "}\n",
    "\n",
    "skf = StratifiedKFold(n_splits=5, shuffle=True, random_state=1)\n",
    "\n",
    "grid_search = GridSearchCV(\n",
    "    estimator     = gb,\n",
    "    param_grid    = param_grid,\n",
    "    scoring       = 'recall',\n",
    "    cv            = skf,\n",
    "    n_jobs        = -1,\n",
    "    refit         = 'False'\n",
    ")\n",
    "\n",
    "grid_search.fit(X_train, y_train)\n",
    "\n",
    "print(\"Best parameters:\", grid_search.best_params_)\n",
    "print(\"Best cross-validation score:\", grid_search.best_score_)"
   ]
  },
  {
   "cell_type": "markdown",
   "metadata": {},
   "source": [
    "gradient boosting classifier for mixed feature dataset"
   ]
  },
  {
   "cell_type": "code",
   "execution_count": 307,
   "metadata": {},
   "outputs": [],
   "source": [
    "X = combined_data.drop(columns = ['DOI', 'abstract', 'target_variable', 'abstract_lemmatized'])\n",
    "y = combined_data.target_variable"
   ]
  },
  {
   "cell_type": "code",
   "execution_count": 308,
   "metadata": {},
   "outputs": [],
   "source": [
    "from sklearn.model_selection import train_test_split\n",
    "\n",
    "\n",
    "X_train, X_test, y_train, y_test = train_test_split(\n",
    "    X,\n",
    "    y,\n",
    "    test_size = 0.2,\n",
    "    random_state = 2022,\n",
    "    stratify = y\n",
    ")"
   ]
  },
  {
   "cell_type": "code",
   "execution_count": 309,
   "metadata": {},
   "outputs": [
    {
     "name": "stdout",
     "output_type": "stream",
     "text": [
      "              precision    recall  f1-score   support\n",
      "\n",
      "           0       0.82      0.85      0.83       621\n",
      "           1       0.84      0.81      0.83       622\n",
      "\n",
      "    accuracy                           0.83      1243\n",
      "   macro avg       0.83      0.83      0.83      1243\n",
      "weighted avg       0.83      0.83      0.83      1243\n",
      "\n"
     ]
    }
   ],
   "source": [
    "from sklearn.ensemble import GradientBoostingClassifier\n",
    "from sklearn.metrics import classification_report\n",
    "\n",
    "gb = GradientBoostingClassifier(learning_rate = 0.2, max_depth = 5, min_samples_split = 2, n_estimators = 200)\n",
    "\n",
    "gb.fit(X_train, y_train)\n",
    "\n",
    "y_pred = gb.predict(X_test)\n",
    "\n",
    "print(classification_report(y_test, y_pred))"
   ]
  },
  {
   "cell_type": "markdown",
   "metadata": {},
   "source": [
    "gradient boosting classifier for metadata feature dataset"
   ]
  },
  {
   "cell_type": "code",
   "execution_count": 310,
   "metadata": {},
   "outputs": [],
   "source": [
    "X_meta = data.drop(columns = ['DOI', 'abstract', 'target_variable', 'abstract_lemmatized'])\n",
    "y_meta = data.target_variable"
   ]
  },
  {
   "cell_type": "code",
   "execution_count": 311,
   "metadata": {},
   "outputs": [],
   "source": [
    "X_train, X_test, y_train, y_test = train_test_split(\n",
    "    X_meta,\n",
    "    y_meta,\n",
    "    test_size = 0.2,\n",
    "    random_state = 2022,\n",
    "    stratify = y_meta\n",
    ")"
   ]
  },
  {
   "cell_type": "code",
   "execution_count": 312,
   "metadata": {},
   "outputs": [
    {
     "name": "stdout",
     "output_type": "stream",
     "text": [
      "              precision    recall  f1-score   support\n",
      "\n",
      "           0       0.73      0.69      0.71       621\n",
      "           1       0.70      0.74      0.72       622\n",
      "\n",
      "    accuracy                           0.72      1243\n",
      "   macro avg       0.72      0.72      0.71      1243\n",
      "weighted avg       0.72      0.72      0.71      1243\n",
      "\n"
     ]
    }
   ],
   "source": [
    "from sklearn.metrics import classification_report\n",
    "\n",
    "gb_metadata = GradientBoostingClassifier(learning_rate = 0.2, max_depth = 5, min_samples_split = 2, n_estimators = 200)\n",
    "\n",
    "gb_metadata.fit(X_train, y_train)\n",
    "\n",
    "y_pred = gb_metadata.predict(X_test)\n",
    "\n",
    "print(classification_report(y_test, y_pred))"
   ]
  },
  {
   "cell_type": "markdown",
   "metadata": {},
   "source": [
    "gradient boosting classifier for tfidf feature dataset"
   ]
  },
  {
   "cell_type": "code",
   "execution_count": 313,
   "metadata": {},
   "outputs": [],
   "source": [
    "X_tfidf = tfidf_df.drop(columns = ['DOI', 'target_variable'])\n",
    "y_tfidf = tfidf_df.target_variable"
   ]
  },
  {
   "cell_type": "code",
   "execution_count": 314,
   "metadata": {},
   "outputs": [],
   "source": [
    "X_train, X_test, y_train, y_test = train_test_split(\n",
    "    X_tfidf,\n",
    "    y_tfidf,\n",
    "    test_size = 0.2,\n",
    "    random_state = 2022,\n",
    "    stratify = y_tfidf\n",
    ")"
   ]
  },
  {
   "cell_type": "code",
   "execution_count": 315,
   "metadata": {},
   "outputs": [
    {
     "name": "stdout",
     "output_type": "stream",
     "text": [
      "              precision    recall  f1-score   support\n",
      "\n",
      "           0       0.79      0.76      0.77       621\n",
      "           1       0.77      0.80      0.78       622\n",
      "\n",
      "    accuracy                           0.78      1243\n",
      "   macro avg       0.78      0.78      0.78      1243\n",
      "weighted avg       0.78      0.78      0.78      1243\n",
      "\n"
     ]
    }
   ],
   "source": [
    "gb_tfidf = GradientBoostingClassifier(learning_rate = 0.2, max_depth = 5, min_samples_split = 2, n_estimators = 200)\n",
    "\n",
    "gb_tfidf.fit(X_train, y_train)\n",
    "\n",
    "y_pred = gb_tfidf.predict(X_test)\n",
    "\n",
    "print(classification_report(y_test, y_pred))"
   ]
  },
  {
   "cell_type": "markdown",
   "metadata": {},
   "source": [
    "Decision tree hyperparameter tuning for mixed features "
   ]
  },
  {
   "cell_type": "code",
   "execution_count": 316,
   "metadata": {},
   "outputs": [],
   "source": [
    "X = combined_data.drop(columns = ['DOI', 'abstract', 'target_variable', 'abstract_lemmatized'])\n",
    "y = combined_data.target_variable"
   ]
  },
  {
   "cell_type": "code",
   "execution_count": 32,
   "metadata": {},
   "outputs": [
    {
     "name": "stdout",
     "output_type": "stream",
     "text": [
      "Best parameters: {'criterion': 'entropy', 'max_depth': 5, 'min_samples_split': 5}\n",
      "Best cross-validation score: 0.7791641414753582\n"
     ]
    }
   ],
   "source": [
    "from sklearn.tree import DecisionTreeClassifier\n",
    "import numpy as np\n",
    "from sklearn.model_selection import GridSearchCV\n",
    "from sklearn.model_selection import StratifiedKFold\n",
    "\n",
    "dt = DecisionTreeClassifier()\n",
    "\n",
    "max_depth         = np.array([5, 10, 20])\n",
    "criterion         = np.array(['gini', 'entropy'])\n",
    "min_samples_split = np.array([2, 5])\n",
    "\n",
    "param_grid = {\n",
    "    'criterion':         criterion,\n",
    "    'max_depth':         max_depth,\n",
    "    'min_samples_split': min_samples_split\n",
    "}\n",
    "\n",
    "skf = StratifiedKFold(n_splits=5, shuffle=True, random_state=1)\n",
    "\n",
    "grid_search = GridSearchCV(\n",
    "    estimator     = dt,\n",
    "    param_grid    = param_grid,\n",
    "    scoring       = 'recall',\n",
    "    cv            = skf,\n",
    "    n_jobs        = -1,\n",
    "    refit         = 'False'\n",
    ")\n",
    "\n",
    "grid_search.fit(X_train, y_train)\n",
    "\n",
    "print(\"Best parameters:\", grid_search.best_params_)\n",
    "print(\"Best cross-validation score:\", grid_search.best_score_)"
   ]
  },
  {
   "cell_type": "code",
   "execution_count": 317,
   "metadata": {},
   "outputs": [],
   "source": [
    "from sklearn.model_selection import train_test_split\n",
    "\n",
    "X_train, X_test, y_train, y_test = train_test_split(\n",
    "    X,\n",
    "    y,\n",
    "    test_size = 0.2,\n",
    "    random_state = 2022,\n",
    "    stratify = y\n",
    ")"
   ]
  },
  {
   "cell_type": "code",
   "execution_count": 322,
   "metadata": {},
   "outputs": [
    {
     "name": "stdout",
     "output_type": "stream",
     "text": [
      "              precision    recall  f1-score   support\n",
      "\n",
      "           0       0.73      0.81      0.77       621\n",
      "           1       0.79      0.71      0.75       622\n",
      "\n",
      "    accuracy                           0.76      1243\n",
      "   macro avg       0.76      0.76      0.76      1243\n",
      "weighted avg       0.76      0.76      0.76      1243\n",
      "\n"
     ]
    }
   ],
   "source": [
    "from sklearn.tree import DecisionTreeClassifier\n",
    "\n",
    "dt = DecisionTreeClassifier(criterion = 'entropy', max_depth = 5, min_samples_split = 5)\n",
    "\n",
    "dt.fit(X_train, y_train)\n",
    "\n",
    "y_pred = dt.predict(X_test)\n",
    "\n",
    "print(classification_report(y_test, y_pred))"
   ]
  },
  {
   "cell_type": "markdown",
   "metadata": {},
   "source": [
    "decision tree classifier for metadata feature dataset"
   ]
  },
  {
   "cell_type": "code",
   "execution_count": 323,
   "metadata": {},
   "outputs": [],
   "source": [
    "X_meta = data.drop(columns = ['DOI', 'abstract', 'target_variable', 'abstract_lemmatized'])\n",
    "y_meta = data.target_variable"
   ]
  },
  {
   "cell_type": "code",
   "execution_count": 324,
   "metadata": {},
   "outputs": [],
   "source": [
    "X_train, X_test, y_train, y_test = train_test_split(\n",
    "    X_meta,\n",
    "    y_meta,\n",
    "    test_size = 0.2,\n",
    "    random_state = 2022,\n",
    "    stratify = y_meta\n",
    ")"
   ]
  },
  {
   "cell_type": "code",
   "execution_count": 325,
   "metadata": {},
   "outputs": [
    {
     "name": "stdout",
     "output_type": "stream",
     "text": [
      "              precision    recall  f1-score   support\n",
      "\n",
      "           0       0.72      0.62      0.67       621\n",
      "           1       0.67      0.75      0.71       622\n",
      "\n",
      "    accuracy                           0.69      1243\n",
      "   macro avg       0.69      0.69      0.69      1243\n",
      "weighted avg       0.69      0.69      0.69      1243\n",
      "\n"
     ]
    }
   ],
   "source": [
    "dt = DecisionTreeClassifier(criterion = 'entropy', max_depth = 5, min_samples_split = 5)\n",
    "\n",
    "dt.fit(X_train, y_train)\n",
    "\n",
    "y_pred = dt.predict(X_test)\n",
    "\n",
    "print(classification_report(y_test, y_pred))"
   ]
  },
  {
   "cell_type": "markdown",
   "metadata": {},
   "source": [
    "decision tree classifier for tfidf feature dataset"
   ]
  },
  {
   "cell_type": "code",
   "execution_count": 326,
   "metadata": {},
   "outputs": [],
   "source": [
    "X_tfidf = tfidf_df.drop(columns = ['DOI', 'target_variable'])\n",
    "y_tfidf = tfidf_df.target_variable"
   ]
  },
  {
   "cell_type": "code",
   "execution_count": 327,
   "metadata": {},
   "outputs": [],
   "source": [
    "X_train, X_test, y_train, y_test = train_test_split(\n",
    "    X_tfidf,\n",
    "    y_tfidf,\n",
    "    test_size = 0.2,\n",
    "    random_state = 2022,\n",
    "    stratify = y_tfidf\n",
    ")"
   ]
  },
  {
   "cell_type": "code",
   "execution_count": 328,
   "metadata": {},
   "outputs": [
    {
     "name": "stdout",
     "output_type": "stream",
     "text": [
      "              precision    recall  f1-score   support\n",
      "\n",
      "           0       0.73      0.64      0.68       621\n",
      "           1       0.68      0.77      0.72       622\n",
      "\n",
      "    accuracy                           0.70      1243\n",
      "   macro avg       0.71      0.70      0.70      1243\n",
      "weighted avg       0.71      0.70      0.70      1243\n",
      "\n"
     ]
    }
   ],
   "source": [
    "dt = DecisionTreeClassifier(criterion = 'entropy', max_depth = 5, min_samples_split = 5)\n",
    "\n",
    "dt.fit(X_train, y_train)\n",
    "\n",
    "y_pred = dt.predict(X_test)\n",
    "\n",
    "print(classification_report(y_test, y_pred))"
   ]
  },
  {
   "cell_type": "markdown",
   "metadata": {},
   "source": [
    "feature importances with best performing algorithm (gradient boosting classifier trained with mixed feature dataset)"
   ]
  },
  {
   "cell_type": "code",
   "execution_count": 329,
   "metadata": {},
   "outputs": [],
   "source": [
    "from sklearn.model_selection import train_test_split\n",
    "\n",
    "X = combined_data.drop(columns = ['DOI', 'abstract', 'target_variable', 'abstract_lemmatized'])\n",
    "y = combined_data.target_variable\n",
    "\n",
    "\n",
    "X_train, X_test, y_train, y_test = train_test_split(\n",
    "    X,\n",
    "    y,\n",
    "    test_size = 0.2,\n",
    "    random_state = 2022,\n",
    "    stratify = y\n",
    ")"
   ]
  },
  {
   "cell_type": "code",
   "execution_count": 330,
   "metadata": {},
   "outputs": [],
   "source": [
    "feature_importances = gb.feature_importances_\n",
    "feature_names = X_train.columns"
   ]
  },
  {
   "cell_type": "code",
   "execution_count": 331,
   "metadata": {},
   "outputs": [],
   "source": [
    "importance_df = pd.DataFrame({'feature': feature_names, 'Importance': feature_importances})"
   ]
  },
  {
   "cell_type": "code",
   "execution_count": 332,
   "metadata": {},
   "outputs": [],
   "source": [
    "importance_df_sorted = importance_df.sort_values(by = 'Importance', ascending = False).head(50)"
   ]
  },
  {
   "cell_type": "code",
   "execution_count": 333,
   "metadata": {},
   "outputs": [
    {
     "data": {
      "text/html": [
       "<div>\n",
       "<style scoped>\n",
       "    .dataframe tbody tr th:only-of-type {\n",
       "        vertical-align: middle;\n",
       "    }\n",
       "\n",
       "    .dataframe tbody tr th {\n",
       "        vertical-align: top;\n",
       "    }\n",
       "\n",
       "    .dataframe thead th {\n",
       "        text-align: right;\n",
       "    }\n",
       "</style>\n",
       "<table border=\"1\" class=\"dataframe\">\n",
       "  <thead>\n",
       "    <tr style=\"text-align: right;\">\n",
       "      <th></th>\n",
       "      <th>feature</th>\n",
       "      <th>Importance</th>\n",
       "    </tr>\n",
       "  </thead>\n",
       "  <tbody>\n",
       "    <tr>\n",
       "      <th>8582</th>\n",
       "      <td>cell</td>\n",
       "      <td>0.159405</td>\n",
       "    </tr>\n",
       "    <tr>\n",
       "      <th>3</th>\n",
       "      <td>orcid_availability</td>\n",
       "      <td>0.057421</td>\n",
       "    </tr>\n",
       "    <tr>\n",
       "      <th>15662</th>\n",
       "      <td>expression</td>\n",
       "      <td>0.040030</td>\n",
       "    </tr>\n",
       "    <tr>\n",
       "      <th>33129</th>\n",
       "      <td>protein</td>\n",
       "      <td>0.031914</td>\n",
       "    </tr>\n",
       "    <tr>\n",
       "      <th>0</th>\n",
       "      <td>citation_count</td>\n",
       "      <td>0.023934</td>\n",
       "    </tr>\n",
       "    <tr>\n",
       "      <th>34302</th>\n",
       "      <td>receptor</td>\n",
       "      <td>0.016873</td>\n",
       "    </tr>\n",
       "    <tr>\n",
       "      <th>26</th>\n",
       "      <td>affiliation_country_China</td>\n",
       "      <td>0.015245</td>\n",
       "    </tr>\n",
       "    <tr>\n",
       "      <th>21148</th>\n",
       "      <td>induced</td>\n",
       "      <td>0.014697</td>\n",
       "    </tr>\n",
       "    <tr>\n",
       "      <th>6225</th>\n",
       "      <td>based</td>\n",
       "      <td>0.014171</td>\n",
       "    </tr>\n",
       "    <tr>\n",
       "      <th>22767</th>\n",
       "      <td>kg</td>\n",
       "      <td>0.012651</td>\n",
       "    </tr>\n",
       "    <tr>\n",
       "      <th>18196</th>\n",
       "      <td>group</td>\n",
       "      <td>0.012322</td>\n",
       "    </tr>\n",
       "    <tr>\n",
       "      <th>1</th>\n",
       "      <td>numer_of_authors</td>\n",
       "      <td>0.012197</td>\n",
       "    </tr>\n",
       "    <tr>\n",
       "      <th>34112</th>\n",
       "      <td>rat</td>\n",
       "      <td>0.011607</td>\n",
       "    </tr>\n",
       "    <tr>\n",
       "      <th>34930</th>\n",
       "      <td>reserved</td>\n",
       "      <td>0.010212</td>\n",
       "    </tr>\n",
       "    <tr>\n",
       "      <th>48</th>\n",
       "      <td>affiliation_country_India</td>\n",
       "      <td>0.009247</td>\n",
       "    </tr>\n",
       "    <tr>\n",
       "      <th>4943</th>\n",
       "      <td>apoptosis</td>\n",
       "      <td>0.009180</td>\n",
       "    </tr>\n",
       "    <tr>\n",
       "      <th>35168</th>\n",
       "      <td>review</td>\n",
       "      <td>0.007945</td>\n",
       "    </tr>\n",
       "    <tr>\n",
       "      <th>22818</th>\n",
       "      <td>kinase</td>\n",
       "      <td>0.007422</td>\n",
       "    </tr>\n",
       "    <tr>\n",
       "      <th>26450</th>\n",
       "      <td>mouse</td>\n",
       "      <td>0.007294</td>\n",
       "    </tr>\n",
       "    <tr>\n",
       "      <th>42931</th>\n",
       "      <td>vivo</td>\n",
       "      <td>0.006642</td>\n",
       "    </tr>\n",
       "    <tr>\n",
       "      <th>56</th>\n",
       "      <td>affiliation_country_Japan</td>\n",
       "      <td>0.006569</td>\n",
       "    </tr>\n",
       "    <tr>\n",
       "      <th>41886</th>\n",
       "      <td>undergoing</td>\n",
       "      <td>0.006067</td>\n",
       "    </tr>\n",
       "    <tr>\n",
       "      <th>5436</th>\n",
       "      <td>assay</td>\n",
       "      <td>0.005165</td>\n",
       "    </tr>\n",
       "    <tr>\n",
       "      <th>1058</th>\n",
       "      <td>2006</td>\n",
       "      <td>0.005073</td>\n",
       "    </tr>\n",
       "    <tr>\n",
       "      <th>43774</th>\n",
       "      <td>year</td>\n",
       "      <td>0.004630</td>\n",
       "    </tr>\n",
       "    <tr>\n",
       "      <th>25879</th>\n",
       "      <td>mir</td>\n",
       "      <td>0.004241</td>\n",
       "    </tr>\n",
       "    <tr>\n",
       "      <th>13490</th>\n",
       "      <td>double</td>\n",
       "      <td>0.004135</td>\n",
       "    </tr>\n",
       "    <tr>\n",
       "      <th>29485</th>\n",
       "      <td>outcome</td>\n",
       "      <td>0.004029</td>\n",
       "    </tr>\n",
       "    <tr>\n",
       "      <th>15823</th>\n",
       "      <td>factor</td>\n",
       "      <td>0.003967</td>\n",
       "    </tr>\n",
       "    <tr>\n",
       "      <th>20982</th>\n",
       "      <td>inc</td>\n",
       "      <td>0.003962</td>\n",
       "    </tr>\n",
       "    <tr>\n",
       "      <th>41920</th>\n",
       "      <td>understanding</td>\n",
       "      <td>0.003578</td>\n",
       "    </tr>\n",
       "    <tr>\n",
       "      <th>42927</th>\n",
       "      <td>vitro</td>\n",
       "      <td>0.003525</td>\n",
       "    </tr>\n",
       "    <tr>\n",
       "      <th>21323</th>\n",
       "      <td>inhibited</td>\n",
       "      <td>0.003361</td>\n",
       "    </tr>\n",
       "    <tr>\n",
       "      <th>1071</th>\n",
       "      <td>2010</td>\n",
       "      <td>0.003178</td>\n",
       "    </tr>\n",
       "    <tr>\n",
       "      <th>1063</th>\n",
       "      <td>2008</td>\n",
       "      <td>0.003166</td>\n",
       "    </tr>\n",
       "    <tr>\n",
       "      <th>4375</th>\n",
       "      <td>analysis</td>\n",
       "      <td>0.003158</td>\n",
       "    </tr>\n",
       "    <tr>\n",
       "      <th>32676</th>\n",
       "      <td>presented</td>\n",
       "      <td>0.003140</td>\n",
       "    </tr>\n",
       "    <tr>\n",
       "      <th>9462</th>\n",
       "      <td>clinical</td>\n",
       "      <td>0.003124</td>\n",
       "    </tr>\n",
       "    <tr>\n",
       "      <th>15218</th>\n",
       "      <td>et</td>\n",
       "      <td>0.003071</td>\n",
       "    </tr>\n",
       "    <tr>\n",
       "      <th>4198</th>\n",
       "      <td>american</td>\n",
       "      <td>0.003059</td>\n",
       "    </tr>\n",
       "    <tr>\n",
       "      <th>35090</th>\n",
       "      <td>retracted</td>\n",
       "      <td>0.003054</td>\n",
       "    </tr>\n",
       "    <tr>\n",
       "      <th>6</th>\n",
       "      <td>abstract_count</td>\n",
       "      <td>0.002929</td>\n",
       "    </tr>\n",
       "    <tr>\n",
       "      <th>22202</th>\n",
       "      <td>isolated</td>\n",
       "      <td>0.002848</td>\n",
       "    </tr>\n",
       "    <tr>\n",
       "      <th>21157</th>\n",
       "      <td>induction</td>\n",
       "      <td>0.002706</td>\n",
       "    </tr>\n",
       "    <tr>\n",
       "      <th>4</th>\n",
       "      <td>hospital_affiliation</td>\n",
       "      <td>0.002687</td>\n",
       "    </tr>\n",
       "    <tr>\n",
       "      <th>12284</th>\n",
       "      <td>dependent</td>\n",
       "      <td>0.002681</td>\n",
       "    </tr>\n",
       "    <tr>\n",
       "      <th>1669</th>\n",
       "      <td>3d</td>\n",
       "      <td>0.002618</td>\n",
       "    </tr>\n",
       "    <tr>\n",
       "      <th>4449</th>\n",
       "      <td>anesthesia</td>\n",
       "      <td>0.002576</td>\n",
       "    </tr>\n",
       "    <tr>\n",
       "      <th>2</th>\n",
       "      <td>open_access</td>\n",
       "      <td>0.002523</td>\n",
       "    </tr>\n",
       "    <tr>\n",
       "      <th>36584</th>\n",
       "      <td>sem</td>\n",
       "      <td>0.002395</td>\n",
       "    </tr>\n",
       "  </tbody>\n",
       "</table>\n",
       "</div>"
      ],
      "text/plain": [
       "                         feature  Importance\n",
       "8582                        cell    0.159405\n",
       "3             orcid_availability    0.057421\n",
       "15662                 expression    0.040030\n",
       "33129                    protein    0.031914\n",
       "0                 citation_count    0.023934\n",
       "34302                   receptor    0.016873\n",
       "26     affiliation_country_China    0.015245\n",
       "21148                    induced    0.014697\n",
       "6225                       based    0.014171\n",
       "22767                         kg    0.012651\n",
       "18196                      group    0.012322\n",
       "1               numer_of_authors    0.012197\n",
       "34112                        rat    0.011607\n",
       "34930                   reserved    0.010212\n",
       "48     affiliation_country_India    0.009247\n",
       "4943                   apoptosis    0.009180\n",
       "35168                     review    0.007945\n",
       "22818                     kinase    0.007422\n",
       "26450                      mouse    0.007294\n",
       "42931                       vivo    0.006642\n",
       "56     affiliation_country_Japan    0.006569\n",
       "41886                 undergoing    0.006067\n",
       "5436                       assay    0.005165\n",
       "1058                        2006    0.005073\n",
       "43774                       year    0.004630\n",
       "25879                        mir    0.004241\n",
       "13490                     double    0.004135\n",
       "29485                    outcome    0.004029\n",
       "15823                     factor    0.003967\n",
       "20982                        inc    0.003962\n",
       "41920              understanding    0.003578\n",
       "42927                      vitro    0.003525\n",
       "21323                  inhibited    0.003361\n",
       "1071                        2010    0.003178\n",
       "1063                        2008    0.003166\n",
       "4375                    analysis    0.003158\n",
       "32676                  presented    0.003140\n",
       "9462                    clinical    0.003124\n",
       "15218                         et    0.003071\n",
       "4198                    american    0.003059\n",
       "35090                  retracted    0.003054\n",
       "6                 abstract_count    0.002929\n",
       "22202                   isolated    0.002848\n",
       "21157                  induction    0.002706\n",
       "4           hospital_affiliation    0.002687\n",
       "12284                  dependent    0.002681\n",
       "1669                          3d    0.002618\n",
       "4449                  anesthesia    0.002576\n",
       "2                    open_access    0.002523\n",
       "36584                        sem    0.002395"
      ]
     },
     "execution_count": 333,
     "metadata": {},
     "output_type": "execute_result"
    }
   ],
   "source": [
    "importance_df_sorted"
   ]
  },
  {
   "cell_type": "code",
   "execution_count": null,
   "metadata": {},
   "outputs": [],
   "source": []
  }
 ],
 "metadata": {
  "kernelspec": {
   "display_name": "Python 3",
   "language": "python",
   "name": "python3"
  },
  "language_info": {
   "codemirror_mode": {
    "name": "ipython",
    "version": 3
   },
   "file_extension": ".py",
   "mimetype": "text/x-python",
   "name": "python",
   "nbconvert_exporter": "python",
   "pygments_lexer": "ipython3",
   "version": "3.12.4"
  }
 },
 "nbformat": 4,
 "nbformat_minor": 2
}
